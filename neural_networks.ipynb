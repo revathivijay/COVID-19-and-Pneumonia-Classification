{
  "cells": [
    {
      "cell_type": "code",
      "execution_count": null,
      "metadata": {
        "colab": {
          "base_uri": "https://localhost:8080/"
        },
        "id": "7AGyipoBCOOK",
        "outputId": "2021ebed-a6aa-4d65-944f-6e0b1407309c"
      },
      "outputs": [
        {
          "output_type": "stream",
          "name": "stdout",
          "text": [
            "Drive already mounted at /content/drive; to attempt to forcibly remount, call drive.mount(\"/content/drive\", force_remount=True).\n"
          ]
        }
      ],
      "source": [
        "from google.colab import drive\n",
        "drive.mount('/content/drive')"
      ]
    },
    {
      "cell_type": "markdown",
      "source": [
        "## **Load packages**"
      ],
      "metadata": {
        "id": "gFRmfAQB7J6V"
      }
    },
    {
      "cell_type": "code",
      "execution_count": null,
      "metadata": {
        "id": "6lT5b_LYV5l_"
      },
      "outputs": [],
      "source": [
        "import PIL\n",
        "import numpy as np\n",
        "import tensorflow as tf\n",
        "# load and show an image with Pillow\n",
        "from PIL import Image\n",
        "from os import listdir\n",
        "from sklearn import metrics\n",
        "import os\n",
        "import numpy as np\n",
        "import torch\n",
        "from torchvision import transforms\n",
        "import matplotlib.pyplot as plt"
      ]
    },
    {
      "cell_type": "markdown",
      "source": [
        "## **Load data**"
      ],
      "metadata": {
        "id": "oRBj3V_AuAER"
      }
    },
    {
      "cell_type": "code",
      "source": [
        "# load all images in a directory\n",
        "# load all images in a directory\n",
        "loaded_images = list()\n",
        "loaded_images_greyscale = list()\n",
        "dir_normal = '/content/drive/Shareddrives/520 - Machine Learning Project/Dataset/Normal2/'\n",
        "dir_covid = '/content/drive/Shareddrives/520 - Machine Learning Project/Dataset/COVID2/'\n",
        "dir_pneumonia = '/content/drive/Shareddrives/520 - Machine Learning Project/Dataset/Viral_Pneumonia2/'\n",
        "labels = []\n",
        "\n",
        "for filename in listdir(dir_normal):\n",
        "\t# load image\n",
        "\timg_data = Image.open(dir_normal + filename)\n",
        "\tloaded_images_greyscale.append(img_data) \n",
        "\timg_data = img_data.convert(\"RGB\")\n",
        "\t# store loaded image\n",
        "\tloaded_images.append(img_data)\n",
        "\tlabels.append(0)\n",
        "for filename in listdir(dir_covid):\n",
        "  # load image\n",
        "\timg_data = Image.open(dir_covid + filename)\n",
        "\tloaded_images_greyscale.append(img_data) \n",
        "\timg_data = img_data.convert(\"RGB\")\n",
        "\t# store loaded image\n",
        "\tloaded_images.append(img_data)\n",
        "\tlabels.append(1)\n",
        "for filename in listdir(dir_pneumonia):\n",
        "  # load image\n",
        "\timg_data = Image.open(dir_pneumonia + filename).convert('L')\n",
        "\tloaded_images_greyscale.append(img_data) \n",
        "\timg_data = img_data.convert(\"RGB\")\n",
        "\t# store loaded image\n",
        "\tloaded_images.append(img_data)\n",
        "\tlabels.append(2)\n"
      ],
      "metadata": {
        "id": "qNlvhgebt9tA"
      },
      "execution_count": null,
      "outputs": []
    },
    {
      "cell_type": "code",
      "execution_count": null,
      "metadata": {
        "id": "XrRUXEJgn1Up"
      },
      "outputs": [],
      "source": [
        "transform1 = transforms.ToTensor()"
      ]
    },
    {
      "cell_type": "markdown",
      "source": [
        "**Net1 Architecture:\\\n",
        "(1) Fully connected layer (Input size: 299\\*299*1, Output size: 32)\\\n",
        "(2) ReLU activation function\\\n",
        "(3) Fully connected layer (Input size: 32, Output size; 1)\\\n",
        "(4) Sigmoid activation function**\n"
      ],
      "metadata": {
        "id": "gAExHVXc7SG-"
      }
    },
    {
      "cell_type": "code",
      "execution_count": null,
      "metadata": {
        "id": "8APHz3Honqor"
      },
      "outputs": [],
      "source": [
        "class Net1(torch.nn.Module):\n",
        "    def __init__(self):\n",
        "        super(Net1, self).__init__()\n",
        "        self.linear_1 = torch.nn.Linear(299*299, 32)\n",
        "        self.linear_2 = torch.nn.Linear(32, 1)\n",
        "        self.relu = torch.nn.ReLU()\n",
        "        self.sigmoid = torch.nn.Sigmoid()\n",
        "\n",
        "    def forward(self, x):\n",
        "        x = x.reshape(x.size(0), -1)\n",
        "        x = self.relu(self.linear_1(x))\n",
        "        x = self.sigmoid(self.linear_2(x))\n",
        "        #x = self.linear_3(x)                                    \n",
        "        return x"
      ]
    },
    {
      "cell_type": "markdown",
      "source": [
        "**Net2 Architecture:\\\n",
        "Fully connected layer (Input size: 299\\*299*1, Output size: 256)\\\n",
        "ReLU activation function\\\n",
        "Dropout (50%)\\\n",
        "Fully connected layer (Input size: 256, Output size: 32)\\\n",
        "ReLU activation function\\\n",
        "Fully connected layer (Input size: 32, Output size; 1)\\\n",
        "Sigmoid activation function**"
      ],
      "metadata": {
        "id": "r5yhIODz9dX-"
      }
    },
    {
      "cell_type": "code",
      "execution_count": null,
      "metadata": {
        "id": "rAD1agcTbsEC"
      },
      "outputs": [],
      "source": [
        "class Net2(torch.nn.Module):\n",
        "    def __init__(self):\n",
        "        super(Net2, self).__init__()\n",
        "        self.linear_1 = torch.nn.Linear(299*299, 256)\n",
        "        self.linear_2 = torch.nn.Linear(256, 32)\n",
        "        self.linear_3 = torch.nn.Linear(32, 1)\n",
        "        self.relu = torch.nn.ReLU()\n",
        "        self.sigmoid = torch.nn.Sigmoid()\n",
        "        self.dropout = torch.nn.Dropout(p=0.5)\n",
        "\n",
        "    def forward(self, x):\n",
        "        x = x.reshape(x.size(0), -1)\n",
        "        x = self.relu(self.linear_1(x))\n",
        "        x = self.dropout(x)\n",
        "        x = self.relu(self.linear_2(x))\n",
        "        x = self.sigmoid(self.linear_3(x))\n",
        "        #x = self.linear_3(x)                                    \n",
        "        return x"
      ]
    },
    {
      "cell_type": "markdown",
      "source": [
        "**Net3 Architecture:\\\n",
        "Convolutional layer (Input size: 299x299x1, Output size: 100x100x16)\\\n",
        "ReLU activation function\\\n",
        "Fully connected layer (Input size: 100\\*100\\*16, Output size: 128)\\\n",
        "ReLU activation function\\\n",
        "Dropout (50%)\\\n",
        "Fully connected layer (Input size: 128, Output size; 1)\\\n",
        "Sigmoid activation function**"
      ],
      "metadata": {
        "id": "wIL93ZII9_PD"
      }
    },
    {
      "cell_type": "code",
      "execution_count": null,
      "metadata": {
        "id": "zv-ZRscSYoh7"
      },
      "outputs": [],
      "source": [
        "class Net3(torch.nn.Module):\n",
        "    def __init__(self):\n",
        "        super(Net3, self).__init__()\n",
        "        self.conv_1 = torch.nn.Conv2d(in_channels=1, out_channels=16, kernel_size=4, stride=3, padding=1)\n",
        "        self.linear_1 = torch.nn.Linear(100*100*16, 128)\n",
        "        self.linear_2 = torch.nn.Linear(128, 1)\n",
        "        self.relu = torch.nn.ReLU()\n",
        "        self.sigmoid = torch.nn.Sigmoid()\n",
        "        self.dropout = torch.nn.Dropout(p=0.5)\n",
        "\n",
        "    def forward(self, x):\n",
        "        x = self.relu(self.conv_1(x))\n",
        "        x = x.reshape(x.size(0), -1)\n",
        "        x = self.relu(self.linear_1(x))\n",
        "        x = self.dropout(x)\n",
        "        x = self.sigmoid(self.linear_2(x))                                    \n",
        "\n",
        "        return x"
      ]
    },
    {
      "cell_type": "markdown",
      "source": [
        "**Net4 Architecture:\\\n",
        "Convolutional layer (Input size: 299x299x1, Output size: 100x100x8)\\\n",
        "ReLU activation function\\\n",
        "Convolutional layer (Input size: 100x100x8, Output size: 33x33x16)\\\n",
        "ReLU activation function\\\n",
        "Convolutional layer (Input size: 33x33x16, Output size: 34x34x32)\\\n",
        "Max pooling layer (Input size: 34\\*34\\*32, Output size: 17\\*17\\*32)\\\n",
        "Fully connected layer (Input size: 17\\*17\\*32, Output size: 128)\\\n",
        "ReLU activation function\\\n",
        "Dropout (50%)\\\n",
        "Fully connected layer (Input size: 128, Output size; 1)\\\n",
        "Sigmoid activation function**"
      ],
      "metadata": {
        "id": "burHL_4z-2Nl"
      }
    },
    {
      "cell_type": "code",
      "source": [
        "class Net4(torch.nn.Module):\n",
        "    def __init__(self):\n",
        "        super(Net4, self).__init__()\n",
        "        self.conv_1 = torch.nn.Conv2d(in_channels=1, out_channels=8, kernel_size=4, stride=3, padding=1)\n",
        "        self.conv_2 = torch.nn.Conv2d(in_channels=8, out_channels=16, kernel_size=6, stride=3, padding=1)\n",
        "        self.conv_3 = torch.nn.Conv2d(in_channels=16, out_channels=32, kernel_size=2, stride=1, padding=1)\n",
        "        self.linear_1 = torch.nn.Linear(17*17*32, 128)\n",
        "        self.linear_2 = torch.nn.Linear(128, 1)\n",
        "        self.relu = torch.nn.ReLU()\n",
        "        self.max_pool2d = torch.nn.MaxPool2d(kernel_size=2, stride=2)\n",
        "        self.sigmoid = torch.nn.Sigmoid()\n",
        "        self.dropout = torch.nn.Dropout(p=0.5)\n",
        "\n",
        "    def forward(self, x):\n",
        "        x = self.relu(self.conv_1(x))\n",
        "        x = self.relu(self.conv_2(x))\n",
        "        x = self.relu(self.conv_3(x))\n",
        "        x = self.max_pool2d(x)\n",
        "        x = x.reshape(x.size(0), -1)\n",
        "        x = self.relu(self.linear_1(x))\n",
        "        x = self.dropout(x)\n",
        "        x = self.sigmoid(self.linear_2(x))                                    \n",
        "\n",
        "        return x"
      ],
      "metadata": {
        "id": "mEaNdnu0AIgi"
      },
      "execution_count": null,
      "outputs": []
    },
    {
      "cell_type": "markdown",
      "source": [
        "# **Classifying COVID-19 X-rays**"
      ],
      "metadata": {
        "id": "vzkcoWh_sFMr"
      }
    },
    {
      "cell_type": "markdown",
      "source": [
        "**Construct train (60%), validation (20%), and test (20%) sets**"
      ],
      "metadata": {
        "id": "E7ZPwM4jBE9N"
      }
    },
    {
      "cell_type": "code",
      "execution_count": null,
      "metadata": {
        "id": "dhbiwxlj0B_z"
      },
      "outputs": [],
      "source": [
        "from sklearn.model_selection import train_test_split\n",
        "from torch.utils.data import Dataset, DataLoader\n",
        "\n",
        "class DatasetMaper(Dataset):\n",
        "\n",
        "   def __init__(self, x, y):\n",
        "      self.x = x\n",
        "      self.y = y\n",
        "      \n",
        "   def __len__(self):\n",
        "      return len(self.x)\n",
        "      \n",
        "   def __getitem__(self, idx):\n",
        "      return self.x[idx], self.y[idx]\n",
        "\n",
        "labels1 = np.array(labels)\n",
        "X = [transform1(loaded_images_greyscale[i]).float() for i in np.where(labels1!=2)[0]]\n",
        "y = [torch.tensor(labels[i]) for i in np.where(labels1!=2)[0]]\n"
      ]
    },
    {
      "cell_type": "code",
      "source": [
        "X_train, X_test, y_train, y_test = train_test_split(X, y, test_size=0.2, random_state=1)\n",
        "X_train, X_val, y_train, y_val = train_test_split(X_train, y_train, test_size=0.25, random_state=1)\n",
        "\n",
        "train = DatasetMaper(X_train, y_train)\n",
        "val = DatasetMaper(X_val, y_val)\n",
        "test = DatasetMaper(X_test, y_test)\n",
        "\n",
        "# Initialize loaders\n",
        "trainloader = DataLoader(train, batch_size=32)\n",
        "valloader = DataLoader(val, batch_size=32)\n",
        "testloader = DataLoader(test, batch_size=32)"
      ],
      "metadata": {
        "id": "wswAkK6k6ZFt"
      },
      "execution_count": null,
      "outputs": []
    },
    {
      "cell_type": "code",
      "execution_count": null,
      "metadata": {
        "id": "yiYjiOG0GfGR"
      },
      "outputs": [],
      "source": [
        "device = torch.device(\"cuda\" if torch.cuda.is_available() else \"cpu\")\n"
      ]
    },
    {
      "cell_type": "markdown",
      "source": [
        "**Net1 Training**"
      ],
      "metadata": {
        "id": "b0OiHj3iBYKm"
      }
    },
    {
      "cell_type": "code",
      "execution_count": null,
      "metadata": {
        "id": "UgGIMS0Kqv6n",
        "colab": {
          "base_uri": "https://localhost:8080/"
        },
        "outputId": "7b2287b3-147e-4920-e73d-da2823b6e735"
      },
      "outputs": [
        {
          "output_type": "stream",
          "name": "stdout",
          "text": [
            "epoch: 10, loss: 9.8367\n",
            "epoch: 20, loss: 2.6592\n",
            "epoch: 30, loss: 1.9754\n",
            "epoch: 40, loss: 1.4701\n",
            "epoch: 50, loss: 1.8168\n"
          ]
        }
      ],
      "source": [
        "torch.random.seed()\n",
        "epochs = 50\n",
        "model1 = Net1()\n",
        "model1.to(device)\n",
        "criterion = torch.nn.BCELoss()\n",
        "optimizer = torch.optim.Adam(model1.parameters(), lr=1e-3) \n",
        "train_loss = []\n",
        "val_loss_list = []\n",
        "#y_pred = []\n",
        "#y_true = []\n",
        "#y_pred_val = []\n",
        "#y_true_val = []\n",
        "# traing iteration\n",
        "for epoch in range(epochs):\n",
        "    running_loss = 0\n",
        "    running_loss_val = 0\n",
        "    \n",
        "    model1.train()\n",
        "    for image, label in trainloader:\n",
        "        image, label = image.to(device), label.to(device)\n",
        "        label = label.unsqueeze(1)\n",
        "        # zero gradient\n",
        "        optimizer.zero_grad()\n",
        "        # forward path\n",
        "        y_predicted = model1(image)\n",
        "        loss = criterion(y_predicted, label.float())\n",
        "        running_loss += loss.item()\n",
        "        # backpropagating\n",
        "        loss.backward()\n",
        "        # optimizes the weights\n",
        "        optimizer.step()\n",
        "        #pred = np.round(y_predicted.cpu().detach())\n",
        "        #target = np.round(label.cpu().detach())             \n",
        "        #y_pred.extend(pred.tolist())\n",
        "        #y_true.extend(target.tolist()) \n",
        "\n",
        "    model1.eval()\n",
        "    with torch.no_grad():\n",
        "        for image_val, label_val in valloader:\n",
        "            image_val, label_val = image_val.to(device), label_val.to(device)\n",
        "            label_val = label_val.unsqueeze(1)\n",
        "            y_predicted_val = model1(image_val)\n",
        "            val_loss = criterion(y_predicted_val, label_val.float())\n",
        "            running_loss_val += val_loss.item()\n",
        "            #pred_val = np.round(y_predicted_val.cpu().detach())\n",
        "            #target_val = np.round(label_val.cpu().detach())             \n",
        "            #y_pred_val.extend(pred_val.tolist())\n",
        "            #y_true_val.extend(target_val.tolist())\n",
        "\n",
        "    val_loss_list.append(running_loss_val)\n",
        "    train_loss.append(running_loss)   \n",
        "    if (epoch+1) % 10 == 0:\n",
        "        print(f'epoch: {epoch+1}, loss: {running_loss:.4f}')\n"
      ]
    },
    {
      "cell_type": "code",
      "source": [
        "fig=plt.figure()\n",
        "plt.plot(np.arange(1, epochs+1), val_loss_list, label=\"Validatiion loss\")\n",
        "plt.plot(np.arange(1, epochs+1), train_loss, label=\"Train loss\")\n",
        "plt.xlabel('Epochs')\n",
        "plt.ylabel('Loss')\n",
        "plt.title(\"Net1 COVID-19 Classification Loss Plots\")\n",
        "plt.legend(loc='upper right')\n",
        "plt.show()"
      ],
      "metadata": {
        "colab": {
          "base_uri": "https://localhost:8080/",
          "height": 295
        },
        "id": "AW1GUgnbJiA_",
        "outputId": "eecebdd9-a18e-45f4-95db-020e3fb99eb2"
      },
      "execution_count": null,
      "outputs": [
        {
          "output_type": "display_data",
          "data": {
            "image/png": "[encoded data removed]",
            "text/plain": [
              "<Figure size 432x288 with 1 Axes>"
            ]
          },
          "metadata": {
            "needs_background": "light"
          }
        }
      ]
    },
    {
      "cell_type": "markdown",
      "source": [
        "**Net1 Validation**"
      ],
      "metadata": {
        "id": "BmpCWKX4vU8f"
      }
    },
    {
      "cell_type": "code",
      "source": [
        "val_pred = []\n",
        "val_true = []\n",
        "model1.eval()\n",
        "with torch.no_grad():\n",
        "    for image, label in valloader:\n",
        "        image, label = image.to(device), label.to(device)\n",
        "        label = label.unsqueeze(1)\n",
        "        pred = model1(image)\n",
        "        pred = np.round(pred.cpu().detach())\n",
        "        target = np.round(label.cpu().detach())             \n",
        "        val_pred.extend(pred.tolist())\n",
        "        val_true.extend(target.tolist())\n",
        "print(\"Accuracy for validation set:\" ,         \n",
        "sum([val_true[i]==val_pred[i] for i in range(len(val_true))])/(len(val_true)))\n",
        "print('Net1 F1 score for validation set: ', metrics.f1_score(val_true, val_pred))\n",
        "print('Net1 AUC for validation set: ', metrics.roc_auc_score(val_true, val_pred))\n",
        "print('Net1 Sensitivity for validation set: ', metrics.recall_score(val_true, val_pred))"
      ],
      "metadata": {
        "id": "iR4qEOQRRdzy",
        "colab": {
          "base_uri": "https://localhost:8080/"
        },
        "outputId": "06a987d1-3e35-4709-a172-913b92708adb"
      },
      "execution_count": null,
      "outputs": [
        {
          "output_type": "stream",
          "name": "stdout",
          "text": [
            "Accuracy for validation set: 0.94\n",
            "Net1 F1 score for validation set:  0.9387755102040817\n",
            "Net1 AUC for validation set:  0.9421918908069049\n",
            "Net1 Sensitivity for validation set:  0.9787234042553191\n"
          ]
        }
      ]
    },
    {
      "cell_type": "markdown",
      "source": [
        "**Net2 Training**"
      ],
      "metadata": {
        "id": "DRRNai7DBdYD"
      }
    },
    {
      "cell_type": "code",
      "execution_count": null,
      "metadata": {
        "id": "sbvsspJ_hxcu",
        "colab": {
          "base_uri": "https://localhost:8080/"
        },
        "outputId": "b3da42e8-0686-424c-c3b7-762a0134114a"
      },
      "outputs": [
        {
          "output_type": "stream",
          "name": "stdout",
          "text": [
            "epoch: 10, loss: 4.7754\n",
            "epoch: 20, loss: 4.0808\n",
            "epoch: 30, loss: 3.8601\n",
            "epoch: 40, loss: 3.3862\n",
            "epoch: 50, loss: 3.8182\n"
          ]
        }
      ],
      "source": [
        "torch.random.seed()\n",
        "epochs = 50\n",
        "model2 = Net2()\n",
        "model2.to(device)\n",
        "criterion = torch.nn.BCELoss()\n",
        "optimizer = torch.optim.Adam(model2.parameters(), lr=1e-3) \n",
        "train_loss = []\n",
        "val_loss_list = []\n",
        "#y_pred = []\n",
        "#y_true = []\n",
        "#y_pred_val = []\n",
        "#y_true_val = []\n",
        "\n",
        "# traing iteration\n",
        "for epoch in range(epochs):\n",
        "    running_loss = 0\n",
        "    running_loss_val = 0\n",
        "    model2.train()\n",
        "    for image, label in trainloader:\n",
        "        image, label = image.to(device), label.to(device)\n",
        "        label = label.unsqueeze(1)\n",
        "        # zero gradient\n",
        "        optimizer.zero_grad()\n",
        "        # forward path\n",
        "        y_predicted = model2(image)\n",
        "        loss = criterion(y_predicted, label.float())\n",
        "        #print(loss)\n",
        "        running_loss += loss.item()\n",
        "        # backpropagating\n",
        "        loss.backward()\n",
        "        # optimizes the weights\n",
        "        optimizer.step()\n",
        "        #pred = np.round(y_predicted.cpu().detach())\n",
        "        #target = np.round(label.cpu().detach())             \n",
        "        #y_pred.extend(pred.tolist())\n",
        "        #y_true.extend(target.tolist())\n",
        "    model2.eval()\n",
        "    with torch.no_grad():\n",
        "        for image_val, label_val in valloader:\n",
        "            image_val, label_val = image_val.to(device), label_val.to(device)\n",
        "            label_val = label_val.unsqueeze(1)\n",
        "            y_predicted_val = model2(image_val)\n",
        "            val_loss = criterion(y_predicted_val, label_val.float())\n",
        "            running_loss_val += val_loss.item()\n",
        "            #pred_val = np.round(y_predicted_val.cpu().detach())\n",
        "            #target_val = np.round(label_val.cpu().detach())             \n",
        "            #y_pred_val.extend(pred_val.tolist())\n",
        "            #y_true_val.extend(target_val.tolist())\n",
        "\n",
        "    val_loss_list.append(running_loss_val)\n",
        "    train_loss.append(running_loss)   \n",
        "    if (epoch+1) % 10 == 0:\n",
        "        print(f'epoch: {epoch+1}, loss: {running_loss:.4f}')"
      ]
    },
    {
      "cell_type": "code",
      "source": [
        "fig=plt.figure()\n",
        "plt.plot(np.arange(1, epochs+1), val_loss_list, label=\"Validatiion loss\")\n",
        "plt.plot(np.arange(1, epochs+1), train_loss, label=\"Train loss\")\n",
        "plt.xlabel('Epochs')\n",
        "plt.ylabel('Loss')\n",
        "plt.title(\"Net2 COVID-19 Classification Loss Plots\")\n",
        "plt.legend(loc='upper right')\n",
        "plt.show()"
      ],
      "metadata": {
        "colab": {
          "base_uri": "https://localhost:8080/",
          "height": 295
        },
        "id": "EnOMOi3yelM7",
        "outputId": "1fca0b05-4a60-4a5f-a298-b9edb8f1fe4a"
      },
      "execution_count": null,
      "outputs": [
        {
          "output_type": "display_data",
          "data": {
            "image/png": "[encoded data removed]",
            "text/plain": [
              "<Figure size 432x288 with 1 Axes>"
            ]
          },
          "metadata": {
            "needs_background": "light"
          }
        }
      ]
    },
    {
      "cell_type": "markdown",
      "source": [
        "**Net2 Validation**"
      ],
      "metadata": {
        "id": "pW4NhD-J5YCY"
      }
    },
    {
      "cell_type": "code",
      "source": [
        "val_pred = []\n",
        "val_true = []\n",
        "model2.eval()\n",
        "with torch.no_grad():\n",
        "    for image, label in valloader:\n",
        "        image, label = image.to(device), label.to(device)\n",
        "        label = label.unsqueeze(1)\n",
        "        pred = model2(image)\n",
        "        pred = np.round(pred.cpu().detach())\n",
        "        target = np.round(label.cpu().detach())             \n",
        "        val_pred.extend(pred.tolist())\n",
        "        val_true.extend(target.tolist())\n",
        "print(\"Accuracy for validation set:\" ,         \n",
        "sum([val_true[i]==val_pred[i] for i in range(len(val_true))])/(len(val_true)))\n",
        "print('Net2 F1 score for validation set: ', metrics.f1_score(val_true, val_pred))\n",
        "print('Net2 AUC for validation set: ', metrics.roc_auc_score(val_true, val_pred))\n",
        "print('Net2 Sensitivity for validation set: ', metrics.recall_score(val_true, val_pred))"
      ],
      "metadata": {
        "colab": {
          "base_uri": "https://localhost:8080/"
        },
        "id": "hioIGPwcohJK",
        "outputId": "a8316541-77cf-4ec2-baf3-08a12f2ab2e1"
      },
      "execution_count": null,
      "outputs": [
        {
          "output_type": "stream",
          "name": "stdout",
          "text": [
            "Accuracy for validation set: 0.94\n",
            "Net2 F1 score for validation set:  0.9387755102040817\n",
            "Net2 AUC for validation set:  0.9421918908069049\n",
            "Net2 Sensitivity for validation set:  0.9787234042553191\n"
          ]
        }
      ]
    },
    {
      "cell_type": "markdown",
      "source": [
        "**Net3 Training**"
      ],
      "metadata": {
        "id": "5RUEdjrgrL7b"
      }
    },
    {
      "cell_type": "code",
      "source": [
        "torch.random.seed()\n",
        "epochs = 50\n",
        "model3 = Net3()\n",
        "model3.to(device)\n",
        "criterion = torch.nn.BCELoss()\n",
        "optimizer = torch.optim.Adam(model3.parameters(), lr=1e-3) \n",
        "train_loss = []\n",
        "val_loss_list = []\n",
        "#y_pred = []\n",
        "#y_true = []\n",
        "#y_pred_val = []\n",
        "#y_true_val = []\n",
        "# traing iteration\n",
        "for epoch in range(epochs):\n",
        "    running_loss = 0\n",
        "    running_loss_val = 0\n",
        "    model3.train()\n",
        "    for image, label in trainloader:\n",
        "        image, label = image.to(device), label.to(device)\n",
        "        label = label.unsqueeze(1)\n",
        "        # zero gradient\n",
        "        optimizer.zero_grad()\n",
        "        # forward path\n",
        "        y_predicted = model3(image)\n",
        "        loss = criterion(y_predicted, label.float())\n",
        "        running_loss += loss.item()\n",
        "        # backpropagating\n",
        "        loss.backward()\n",
        "        # optimizes the weights\n",
        "        optimizer.step()\n",
        "        #pred = np.round(y_predicted.cpu().detach())\n",
        "        #target = np.round(label.cpu().detach())             \n",
        "        #y_pred.extend(pred.tolist())\n",
        "        #y_true.extend(target.tolist())\n",
        "    model3.eval()\n",
        "    with torch.no_grad():\n",
        "      for image_val, label_val in valloader:\n",
        "          image_val, label_val = image_val.to(device), label_val.to(device)\n",
        "          label_val = label_val.unsqueeze(1)\n",
        "          y_predicted_val = model3(image_val)\n",
        "          val_loss = criterion(y_predicted_val, label_val.float())\n",
        "          running_loss_val += val_loss.item()\n",
        "          #pred_val = np.round(y_predicted_val.cpu().detach())\n",
        "          #target_val = np.round(label_val.cpu().detach())             \n",
        "          #y_pred_val.extend(pred_val.tolist())\n",
        "          #y_true_val.extend(target_val.tolist())\n",
        "\n",
        "    val_loss_list.append(running_loss_val)\n",
        "    train_loss.append(running_loss)\n",
        "    if (epoch+1) % 10 == 0:\n",
        "        print(f'epoch: {epoch+1}, loss: {running_loss:.4f}')"
      ],
      "metadata": {
        "id": "7_2wPubCd1b8",
        "colab": {
          "base_uri": "https://localhost:8080/"
        },
        "outputId": "b92c0a7a-e69b-427b-81dc-c7bb08badbdf"
      },
      "execution_count": null,
      "outputs": [
        {
          "output_type": "stream",
          "name": "stdout",
          "text": [
            "epoch: 10, loss: 2.9257\n",
            "epoch: 20, loss: 2.6567\n",
            "epoch: 30, loss: 0.9657\n",
            "epoch: 40, loss: 0.4567\n",
            "epoch: 50, loss: 0.2898\n"
          ]
        }
      ]
    },
    {
      "cell_type": "code",
      "source": [
        "fig=plt.figure()\n",
        "plt.plot(np.arange(1, epochs+1), val_loss_list, label=\"Validatiion loss\")\n",
        "plt.plot(np.arange(1, epochs+1), train_loss, label=\"Train loss\")\n",
        "plt.xlabel('Epochs')\n",
        "plt.ylabel('Loss')\n",
        "plt.title(\"Net3 COVID-19 Classification Loss Plots\")\n",
        "plt.legend(loc='upper right')\n",
        "plt.show()"
      ],
      "metadata": {
        "colab": {
          "base_uri": "https://localhost:8080/",
          "height": 295
        },
        "id": "X0v0_y4semdz",
        "outputId": "e08c2705-b9f7-40ea-86f2-33c9e5922c15"
      },
      "execution_count": null,
      "outputs": [
        {
          "output_type": "display_data",
          "data": {
            "image/png": "[encoded data removed]",
            "text/plain": [
              "<Figure size 432x288 with 1 Axes>"
            ]
          },
          "metadata": {
            "needs_background": "light"
          }
        }
      ]
    },
    {
      "cell_type": "code",
      "source": [
        "torch.random.seed()\n",
        "epochs = 25\n",
        "model3 = Net3()\n",
        "model3.to(device)\n",
        "criterion = torch.nn.BCELoss()\n",
        "optimizer = torch.optim.Adam(model3.parameters(), lr=1e-3) \n",
        "train_loss = []\n",
        "val_loss_list = []\n",
        "\n",
        "# traing iteration\n",
        "for epoch in range(epochs):\n",
        "    running_loss = 0\n",
        "    running_loss_val = 0\n",
        "    model3.train()\n",
        "    for image, label in trainloader:\n",
        "        image, label = image.to(device), label.to(device)\n",
        "        label = label.unsqueeze(1)\n",
        "        # zero gradient\n",
        "        optimizer.zero_grad()\n",
        "        # forward path\n",
        "        y_predicted = model3(image)\n",
        "        loss = criterion(y_predicted, label.float())\n",
        "        running_loss += loss.item()\n",
        "        # backpropagating\n",
        "        loss.backward()\n",
        "        # optimizes the weights\n",
        "        optimizer.step()\n",
        "    model3.eval()\n",
        "    with torch.no_grad():\n",
        "        for image_val, label_val in valloader:\n",
        "            image_val, label_val = image_val.to(device), label_val.to(device)\n",
        "            label_val = label_val.unsqueeze(1)\n",
        "            y_predicted_val = model3(image_val)\n",
        "            val_loss = criterion(y_predicted_val, label_val.float())\n",
        "            running_loss_val += val_loss.item()\n",
        "\n",
        "    val_loss_list.append(running_loss_val)\n",
        "    train_loss.append(running_loss)   \n",
        "    if (epoch+1) % 10 == 0:\n",
        "        print(f'epoch: {epoch+1}, loss: {running_loss:.4f}')"
      ],
      "metadata": {
        "colab": {
          "base_uri": "https://localhost:8080/"
        },
        "id": "lRA7fv0Boogq",
        "outputId": "433668b8-2fec-4fcf-8576-ad17ba249259"
      },
      "execution_count": null,
      "outputs": [
        {
          "output_type": "stream",
          "name": "stdout",
          "text": [
            "epoch: 10, loss: 3.3689\n",
            "epoch: 20, loss: 1.9607\n"
          ]
        }
      ]
    },
    {
      "cell_type": "code",
      "source": [
        "fig=plt.figure()\n",
        "plt.plot(np.arange(1, epochs+1), val_loss_list, label=\"Validatiion loss\")\n",
        "plt.plot(np.arange(1, epochs+1), train_loss, label=\"Train loss\")\n",
        "plt.xlabel('Epochs')\n",
        "plt.ylabel('Loss')\n",
        "plt.title(\"Net3 COVID-19 Classification Loss Plots\")\n",
        "plt.legend(loc='upper right')\n",
        "plt.show()"
      ],
      "metadata": {
        "colab": {
          "base_uri": "https://localhost:8080/",
          "height": 295
        },
        "id": "5spHIv3PCAvV",
        "outputId": "daacce1a-4913-4d20-a6a7-4e58b73ca3e5"
      },
      "execution_count": null,
      "outputs": [
        {
          "output_type": "display_data",
          "data": {
            "image/png": "[encoded data removed]",
            "text/plain": [
              "<Figure size 432x288 with 1 Axes>"
            ]
          },
          "metadata": {
            "needs_background": "light"
          }
        }
      ]
    },
    {
      "cell_type": "markdown",
      "source": [
        "**Net3 Validation**"
      ],
      "metadata": {
        "id": "iJQHUqvE5dnC"
      }
    },
    {
      "cell_type": "code",
      "source": [
        "val_pred = []\n",
        "val_true = []\n",
        "model3.eval()\n",
        "with torch.no_grad():\n",
        "    for image, label in valloader:\n",
        "      image, label = image.to(device), label.to(device)\n",
        "      label = label.unsqueeze(1)\n",
        "      pred = model3(image)\n",
        "      pred = np.round(pred.cpu().detach())\n",
        "      target = np.round(label.cpu().detach())             \n",
        "      val_pred.extend(pred.tolist())\n",
        "      val_true.extend(target.tolist())\n",
        "print(\"Net3 Accuracy for validation set:\" ,         \n",
        "sum([val_true[i]==val_pred[i] for i in range(len(val_true))])/(len(val_true)))\n",
        "print('Net3 F1 score for validation set: ', metrics.f1_score(val_true, val_pred))\n",
        "print('Net3 AUC for validation set: ', metrics.roc_auc_score(val_true, val_pred))\n",
        "print('Net3 Sensitivity for validation set: ', metrics.recall_score(val_true, val_pred))"
      ],
      "metadata": {
        "colab": {
          "base_uri": "https://localhost:8080/"
        },
        "id": "aF-LdRVBoqAx",
        "outputId": "68441e58-63ae-430f-86a9-548977679ee6"
      },
      "execution_count": null,
      "outputs": [
        {
          "output_type": "stream",
          "name": "stdout",
          "text": [
            "Net3 Accuracy for validation set: 0.945\n",
            "Net3 F1 score for validation set:  0.9417989417989417\n",
            "Net3 AUC for validation set:  0.945102368526696\n",
            "Net3 Sensitivity for validation set:  0.9468085106382979\n"
          ]
        }
      ]
    },
    {
      "cell_type": "code",
      "source": [
        "torch.random.seed()\n",
        "epochs = 50\n",
        "model4 = Net4()\n",
        "model4.to(device)\n",
        "criterion = torch.nn.BCELoss()\n",
        "optimizer = torch.optim.Adam(model4.parameters(), lr=1e-3) \n",
        "train_loss = []\n",
        "val_loss_list = []\n",
        "#y_pred = []\n",
        "#y_true = []\n",
        "#y_pred_val = []\n",
        "#y_true_val = []\n",
        "# traing iteration\n",
        "for epoch in range(epochs):\n",
        "    running_loss = 0\n",
        "    running_loss_val = 0\n",
        "    model4.train()\n",
        "    for image, label in trainloader:\n",
        "        image, label = image.to(device), label.to(device)\n",
        "        label = label.unsqueeze(1)\n",
        "        # zero gradient\n",
        "        optimizer.zero_grad()\n",
        "        # forward path\n",
        "        y_predicted = model4(image)\n",
        "        loss = criterion(y_predicted, label.float())\n",
        "        running_loss += loss.item()\n",
        "        # backpropagating\n",
        "        loss.backward()\n",
        "        # optimizes the weights\n",
        "        optimizer.step()\n",
        "        #pred = np.round(y_predicted.cpu().detach())\n",
        "        #target = np.round(label.cpu().detach())             \n",
        "        #y_pred.extend(pred.tolist())\n",
        "        #y_true.extend(target.tolist()) \n",
        "    model4.eval()\n",
        "    with torch.no_grad():\n",
        "        for image_val, label_val in valloader:\n",
        "            image_val, label_val = image_val.to(device), label_val.to(device)\n",
        "            label_val = label_val.unsqueeze(1)\n",
        "            y_predicted_val = model4(image_val)\n",
        "            val_loss = criterion(y_predicted_val, label_val.float())\n",
        "            running_loss_val += val_loss.item()\n",
        "            #pred_val = np.round(y_predicted_val.cpu().detach())\n",
        "            #target_val = np.round(label_val.cpu().detach())             \n",
        "            #y_pred_val.extend(pred_val.tolist())\n",
        "            #_true_val.extend(target_val.tolist())\n",
        "\n",
        "    val_loss_list.append(running_loss_val)\n",
        "    train_loss.append(running_loss)\n",
        "    if (epoch+1) % 10 == 0:\n",
        "        print(f'epoch: {epoch+1}, loss: {running_loss:.4f}')"
      ],
      "metadata": {
        "colab": {
          "base_uri": "https://localhost:8080/"
        },
        "id": "tGeNRUdceC-j",
        "outputId": "04ef1a32-6703-4d0c-ec59-f39946ad9bd1"
      },
      "execution_count": null,
      "outputs": [
        {
          "output_type": "stream",
          "name": "stdout",
          "text": [
            "epoch: 10, loss: 4.3134\n",
            "epoch: 20, loss: 2.9453\n",
            "epoch: 30, loss: 1.7982\n",
            "epoch: 40, loss: 1.2267\n",
            "epoch: 50, loss: 0.6754\n"
          ]
        }
      ]
    },
    {
      "cell_type": "code",
      "source": [
        "fig=plt.figure()\n",
        "plt.plot(np.arange(1, epochs+1), val_loss_list, label=\"Validatiion loss\")\n",
        "plt.plot(np.arange(1, epochs+1), train_loss, label=\"Train loss\")\n",
        "plt.xlabel('Epochs')\n",
        "plt.ylabel('Loss')\n",
        "plt.title(\"Net4 COVID-19 Classification Loss Plots\")\n",
        "plt.legend(loc='upper right')\n",
        "plt.show()"
      ],
      "metadata": {
        "colab": {
          "base_uri": "https://localhost:8080/",
          "height": 295
        },
        "id": "yZltv-T5enNz",
        "outputId": "57710bdc-c4ba-4a2c-bb10-afc55e55ff6e"
      },
      "execution_count": null,
      "outputs": [
        {
          "output_type": "display_data",
          "data": {
            "image/png": "[encoded data removed]",
            "text/plain": [
              "<Figure size 432x288 with 1 Axes>"
            ]
          },
          "metadata": {
            "needs_background": "light"
          }
        }
      ]
    },
    {
      "cell_type": "code",
      "source": [
        "torch.random.seed()\n",
        "epochs = 20\n",
        "model4 = Net4()\n",
        "model4.to(device)\n",
        "criterion = torch.nn.BCELoss()\n",
        "optimizer = torch.optim.Adam(model4.parameters(), lr=1e-3) \n",
        "train_loss = []\n",
        "val_loss_list = []\n",
        "# traing iteration\n",
        "for epoch in range(epochs):\n",
        "    running_loss = 0\n",
        "    running_loss_val = 0\n",
        "    model4.train()\n",
        "    for image, label in trainloader:\n",
        "        image, label = image.to(device), label.to(device)\n",
        "        label = label.unsqueeze(1)\n",
        "        # zero gradient\n",
        "        optimizer.zero_grad()\n",
        "        # forward path\n",
        "        y_predicted = model4(image)\n",
        "        loss = criterion(y_predicted, label.float())\n",
        "        running_loss += loss.item()\n",
        "        # backpropagating\n",
        "        loss.backward()\n",
        "        # optimizes the weights\n",
        "        optimizer.step()\n",
        "    model4.eval()\n",
        "    with torch.no_grad():\n",
        "        for image_val, label_val in valloader:\n",
        "            image_val, label_val = image_val.to(device), label_val.to(device)\n",
        "            label_val = label_val.unsqueeze(1)\n",
        "            y_predicted_val = model4(image_val)\n",
        "            val_loss = criterion(y_predicted_val, label_val.float())\n",
        "            running_loss_val += val_loss.item()\n",
        "\n",
        "    val_loss_list.append(running_loss_val)\n",
        "    train_loss.append(running_loss)\n",
        "    if (epoch+1) % 10 == 0:\n",
        "        print(f'epoch: {epoch+1}, loss: {running_loss:.4f}')"
      ],
      "metadata": {
        "colab": {
          "base_uri": "https://localhost:8080/"
        },
        "id": "O-Jy03sfotcK",
        "outputId": "b3bb3e56-3c21-45ad-a084-092bcbdc1774"
      },
      "execution_count": null,
      "outputs": [
        {
          "output_type": "stream",
          "name": "stdout",
          "text": [
            "epoch: 10, loss: 3.0939\n",
            "epoch: 20, loss: 1.7758\n"
          ]
        }
      ]
    },
    {
      "cell_type": "code",
      "source": [
        "fig=plt.figure()\n",
        "plt.plot(np.arange(1, epochs+1), val_loss_list, label=\"Validatiion loss\")\n",
        "plt.plot(np.arange(1, epochs+1), train_loss, label=\"Train loss\")\n",
        "plt.xlabel('Epochs')\n",
        "plt.ylabel('Loss')\n",
        "plt.title(\"Net4 COVID-19 Classification Loss Plots\")\n",
        "plt.legend(loc='upper right')\n",
        "plt.show()"
      ],
      "metadata": {
        "colab": {
          "base_uri": "https://localhost:8080/",
          "height": 295
        },
        "id": "08_4cZUtCwUD",
        "outputId": "3504ba9a-928b-47ff-d7f8-811cae89ba7f"
      },
      "execution_count": null,
      "outputs": [
        {
          "output_type": "display_data",
          "data": {
            "image/png": "[encoded data removed]",
            "text/plain": [
              "<Figure size 432x288 with 1 Axes>"
            ]
          },
          "metadata": {
            "needs_background": "light"
          }
        }
      ]
    },
    {
      "cell_type": "markdown",
      "source": [
        "**Net4 Validation**"
      ],
      "metadata": {
        "id": "rixvVvqR5qT7"
      }
    },
    {
      "cell_type": "code",
      "source": [
        "val_pred = []\n",
        "val_true = []\n",
        "model4.eval()\n",
        "with torch.no_grad():\n",
        "    for image, label in valloader:\n",
        "        image, label = image.to(device), label.to(device)\n",
        "        label = label.unsqueeze(1)\n",
        "        pred = model4(image)\n",
        "        pred = np.round(pred.cpu().detach())\n",
        "        target = np.round(label.cpu().detach())             \n",
        "        val_pred.extend(pred.tolist())\n",
        "        val_true.extend(target.tolist())\n",
        "print(\"Net4 Accuracy for validation set:\" ,         \n",
        "sum([val_true[i]==val_pred[i] for i in range(len(val_true))])/(len(val_true)))\n",
        "print('Net4 F1 score for validation set: ', metrics.f1_score(val_true, val_pred))\n",
        "print('Net4 AUC for validation set: ', metrics.roc_auc_score(val_true, val_pred))\n",
        "print('Net4 Sensitivity for validation set: ', metrics.recall_score(val_true, val_pred))"
      ],
      "metadata": {
        "colab": {
          "base_uri": "https://localhost:8080/"
        },
        "id": "psv0PuBBtVMi",
        "outputId": "896330de-7277-4df4-b759-7a5ec191711a"
      },
      "execution_count": null,
      "outputs": [
        {
          "output_type": "stream",
          "name": "stdout",
          "text": [
            "Net4 Accuracy for validation set: 0.95\n",
            "Net4 F1 score for validation set:  0.9473684210526315\n",
            "Net4 AUC for validation set:  0.9504215174628664\n",
            "Net4 Sensitivity for validation set:  0.9574468085106383\n"
          ]
        }
      ]
    },
    {
      "cell_type": "markdown",
      "source": [
        "**Net1, Net2, Net3, Net4 Ensemble Validation**"
      ],
      "metadata": {
        "id": "KUxPJu5fETmK"
      }
    },
    {
      "cell_type": "code",
      "source": [
        "val_pred = []\n",
        "val_true = []\n",
        "model1.eval()\n",
        "model2.eval()\n",
        "model3.eval()\n",
        "model4.eval()\n",
        "with torch.no_grad():\n",
        "    for image, label in valloader:\n",
        "        image, label = image.to(device), label.to(device)\n",
        "        label = label.unsqueeze(1)\n",
        "        pred1 = model1(image)\n",
        "        pred2 = model2(image)\n",
        "        pred3 = model3(image)\n",
        "        pred4 = model4(image)  \n",
        "        pred = np.round((pred1.cpu().detach()+pred2.cpu().detach()+pred3.cpu().detach()+pred4.cpu().detach())/4)\n",
        "        target = np.round(label.cpu().detach())             \n",
        "        val_pred.extend(pred.tolist())\n",
        "        val_true.extend(target.tolist())\n",
        "print(\"Net4 Accuracy for validation set:\" ,         \n",
        "sum([val_true[i]==val_pred[i] for i in range(len(val_true))])/(len(val_true)))\n",
        "print('Net4 F1 score for validation set: ', metrics.f1_score(val_true, val_pred))\n",
        "print('Net4 AUC for validation set: ', metrics.roc_auc_score(val_true, val_pred))\n",
        "print('Net4 Sensitivity for validation set: ', metrics.recall_score(val_true, val_pred))"
      ],
      "metadata": {
        "colab": {
          "base_uri": "https://localhost:8080/"
        },
        "id": "7wbNlHaqDwLl",
        "outputId": "d41a8369-235e-41f8-a30a-dec7539fa6d8"
      },
      "execution_count": null,
      "outputs": [
        {
          "output_type": "stream",
          "name": "stdout",
          "text": [
            "Net4 Accuracy for validation set: 0.945\n",
            "Net4 F1 score for validation set:  0.9430051813471503\n",
            "Net4 AUC for validation set:  0.9463067041348856\n",
            "Net4 Sensitivity for validation set:  0.9680851063829787\n"
          ]
        }
      ]
    },
    {
      "cell_type": "markdown",
      "source": [
        "**Test set evaluation using model with best performance on validation set (Net4)**"
      ],
      "metadata": {
        "id": "h0edXWxA5vMl"
      }
    },
    {
      "cell_type": "code",
      "source": [
        "test_pred = []\n",
        "test_true = []\n",
        "model4.eval()\n",
        "with torch.no_grad():\n",
        "    for image, label in testloader:\n",
        "        image, label = image.to(device), label.to(device)\n",
        "        label = label.unsqueeze(1)\n",
        "        pred = model4(image)\n",
        "        pred = np.round(pred.cpu().detach())\n",
        "        target = np.round(label.cpu().detach())             \n",
        "        test_pred.extend(pred.tolist())\n",
        "        test_true.extend(target.tolist())\n",
        "print(\"Ensemble Accuracy for test set:\" ,         \n",
        "sum([test_true[i]==test_pred[i] for i in range(len(test_true))])/(len(test_true)))\n",
        "print('Ensemble F1 score for test set: ', metrics.f1_score(test_true, test_pred))\n",
        "print('Net4 AUC for test set: ', metrics.roc_auc_score(test_true, test_pred))\n",
        "print('Net4 Sensitivity for test set: ', metrics.recall_score(test_true, test_pred))"
      ],
      "metadata": {
        "colab": {
          "base_uri": "https://localhost:8080/"
        },
        "id": "auBhpVBAovGE",
        "outputId": "683918f1-8384-476d-d934-a7cff39480ca"
      },
      "execution_count": null,
      "outputs": [
        {
          "output_type": "stream",
          "name": "stdout",
          "text": [
            "Ensemble Accuracy for test set: 0.915\n",
            "Ensemble F1 score for test set:  0.92018779342723\n",
            "Net4 AUC for test set:  0.9138621794871794\n",
            "Net4 Sensitivity for test set:  0.9423076923076923\n"
          ]
        }
      ]
    },
    {
      "cell_type": "markdown",
      "source": [
        "## **Classifying pneumonia X-rays**"
      ],
      "metadata": {
        "id": "R_ihTTm8sjy-"
      }
    },
    {
      "cell_type": "markdown",
      "source": [
        "**Construct train (60%), validation (20%), and test (20%) sets**"
      ],
      "metadata": {
        "id": "TwVFliprsswB"
      }
    },
    {
      "cell_type": "code",
      "source": [
        "labels1 = np.array(labels)\n",
        "labels1[np.where(labels1==1)]=3\n",
        "labels1[np.where(labels1==2)]=1\n",
        "\n",
        "X = [transform1(loaded_images_greyscale[i]).float() for i in np.where(labels1!=3)[0]]\n",
        "y = [torch.tensor(labels1[i]) for i in np.where(labels1!=3)[0]]\n",
        "\n",
        "\n",
        "X_train, X_test, y_train, y_test = train_test_split(X, y, test_size=0.2, random_state=1)\n",
        "X_train, X_val, y_train, y_val = train_test_split(X_train, y_train, test_size=0.25, random_state=1)\n",
        "\n",
        "train = DatasetMaper(X_train, y_train)\n",
        "val = DatasetMaper(X_val, y_val)\n",
        "test = DatasetMaper(X_test, y_test)\n",
        "\n",
        "# Initialize loaders\n",
        "trainloader = DataLoader(train, batch_size=32)\n",
        "valloader = DataLoader(val, batch_size=32)\n",
        "testloader = DataLoader(test, batch_size=32)"
      ],
      "metadata": {
        "id": "HJMIDLtc4dqp"
      },
      "execution_count": null,
      "outputs": []
    },
    {
      "cell_type": "markdown",
      "source": [
        "**Net1 Training**"
      ],
      "metadata": {
        "id": "u-V5lNK-6JPA"
      }
    },
    {
      "cell_type": "code",
      "source": [
        "torch.random.seed()\n",
        "epochs = 50\n",
        "model1 = Net1()\n",
        "model1.to(device)\n",
        "criterion = torch.nn.BCELoss()\n",
        "optimizer = torch.optim.Adam(model1.parameters(), lr=1e-3) \n",
        "train_loss = []\n",
        "val_loss_list = []\n",
        "#y_pred = []\n",
        "#y_true = []\n",
        "#y_pred_val = []\n",
        "#y_true_val = []\n",
        "# traing iteration\n",
        "for epoch in range(epochs):\n",
        "    running_loss = 0\n",
        "    running_loss_val = 0\n",
        "    model1.train()\n",
        "    for image, label in trainloader:\n",
        "        image, label = image.to(device), label.to(device)\n",
        "        label = label.unsqueeze(1)\n",
        "        # zero gradient\n",
        "        optimizer.zero_grad()\n",
        "        # forward path\n",
        "        y_predicted = model1(image)\n",
        "        loss = criterion(y_predicted, label.float())\n",
        "        running_loss += loss.item()\n",
        "        # backpropagating\n",
        "        loss.backward()\n",
        "        # optimizes the weights\n",
        "        optimizer.step()\n",
        "        #pred = np.round(y_predicted.cpu().detach())\n",
        "        #target = np.round(label.cpu().detach())             \n",
        "        #y_pred.extend(pred.tolist())\n",
        "        #y_true.extend(target.tolist()) \n",
        "    model1.eval()\n",
        "    with torch.no_grad():\n",
        "        for image_val, label_val in valloader:\n",
        "            image_val, label_val = image_val.to(device), label_val.to(device)\n",
        "            label_val = label_val.unsqueeze(1)\n",
        "            y_predicted_val = model1(image_val)\n",
        "            val_loss = criterion(y_predicted_val, label_val.float())\n",
        "            running_loss_val += val_loss.item()\n",
        "            #pred_val = np.round(y_predicted_val.cpu().detach())\n",
        "            #target_val = np.round(label_val.cpu().detach())             \n",
        "            #y_pred_val.extend(pred_val.tolist())\n",
        "            #y_true_val.extend(target_val.tolist())\n",
        "\n",
        "    val_loss_list.append(running_loss_val)\n",
        "    train_loss.append(running_loss)\n",
        "    if (epoch+1) % 10 == 0:\n",
        "        print(f'epoch: {epoch+1}, loss: {running_loss:.4f}')\n"
      ],
      "metadata": {
        "colab": {
          "base_uri": "https://localhost:8080/"
        },
        "id": "TD7BVIJh-Oq3",
        "outputId": "ada65bd1-d0de-469e-c8b9-0348b870b74a"
      },
      "execution_count": null,
      "outputs": [
        {
          "output_type": "stream",
          "name": "stdout",
          "text": [
            "epoch: 10, loss: 7.1415\n",
            "epoch: 20, loss: 3.7416\n",
            "epoch: 30, loss: 2.9781\n",
            "epoch: 40, loss: 2.8282\n",
            "epoch: 50, loss: 2.9005\n"
          ]
        }
      ]
    },
    {
      "cell_type": "code",
      "source": [
        "fig=plt.figure()\n",
        "plt.plot(np.arange(1, epochs+1), val_loss_list, label=\"Validatiion loss\")\n",
        "plt.plot(np.arange(1, epochs+1), train_loss, label=\"Train loss\")\n",
        "plt.xlabel('Epochs')\n",
        "plt.ylabel('Loss')\n",
        "plt.title(\"Net1 Pneumonia Classification Loss Plots\")\n",
        "plt.legend(loc='upper right')\n",
        "plt.show()"
      ],
      "metadata": {
        "colab": {
          "base_uri": "https://localhost:8080/",
          "height": 295
        },
        "id": "JERy6NXh-WwU",
        "outputId": "68f9394d-413a-49f6-df6f-d59533cea342"
      },
      "execution_count": null,
      "outputs": [
        {
          "output_type": "display_data",
          "data": {
            "image/png": "[encoded data removed]",
            "text/plain": [
              "<Figure size 432x288 with 1 Axes>"
            ]
          },
          "metadata": {
            "needs_background": "light"
          }
        }
      ]
    },
    {
      "cell_type": "markdown",
      "source": [
        "**Net1 Validation**"
      ],
      "metadata": {
        "id": "JCCqntMb6M31"
      }
    },
    {
      "cell_type": "code",
      "source": [
        "val_pred = []\n",
        "val_true = []\n",
        "model1.eval()\n",
        "with torch.no_grad():\n",
        "    for image, label in valloader:\n",
        "        image, label = image.to(device), label.to(device)\n",
        "        label = label.unsqueeze(1)\n",
        "        pred = model1(image)\n",
        "        pred = np.round(pred.cpu().detach())\n",
        "        target = np.round(label.cpu().detach())             \n",
        "        val_pred.extend(pred.tolist())\n",
        "        val_true.extend(target.tolist())\n",
        "print(\"Net1 Accuracy for validation set:\" ,         \n",
        "sum([val_true[i]==val_pred[i] for i in range(len(val_true))])/(len(val_true)))\n",
        "print('Net1 F1 score for validation set: ', metrics.f1_score(val_true, val_pred))\n",
        "print('Net1 AUC for validation set: ', metrics.roc_auc_score(val_true, val_pred))\n",
        "print('Net1 Sensitivity for validation set: ', metrics.recall_score(val_true, val_pred))"
      ],
      "metadata": {
        "colab": {
          "base_uri": "https://localhost:8080/"
        },
        "id": "Und77TWJ-hiA",
        "outputId": "11a40315-d524-475d-b398-88e97b822a7e"
      },
      "execution_count": null,
      "outputs": [
        {
          "output_type": "stream",
          "name": "stdout",
          "text": [
            "Net1 Accuracy for validation set: 0.89\n",
            "Net1 F1 score for validation set:  0.875\n",
            "Net1 AUC for validation set:  0.8859895624247289\n",
            "Net1 Sensitivity for validation set:  0.8191489361702128\n"
          ]
        }
      ]
    },
    {
      "cell_type": "markdown",
      "source": [
        "**Net2 Training**"
      ],
      "metadata": {
        "id": "xZ2XNE3M6Yxh"
      }
    },
    {
      "cell_type": "code",
      "source": [
        "torch.random.seed()\n",
        "epochs = 50\n",
        "model2 = Net2()\n",
        "model2.to(device)\n",
        "criterion = torch.nn.BCELoss()\n",
        "optimizer = torch.optim.Adam(model2.parameters(), lr=1e-3) \n",
        "train_loss = []\n",
        "val_loss_list = []\n",
        "#y_pred = []\n",
        "#y_true = []\n",
        "#y_pred_val = []\n",
        "#y_true_val = []\n",
        "\n",
        "# traing iteration\n",
        "for epoch in range(epochs):\n",
        "    running_loss = 0\n",
        "    running_loss_val = 0\n",
        "    model2.train()\n",
        "    for image, label in trainloader:\n",
        "        image, label = image.to(device), label.to(device)\n",
        "        label = label.unsqueeze(1)\n",
        "        # zero gradient\n",
        "        optimizer.zero_grad()\n",
        "        # forward path\n",
        "        y_predicted = model2(image)\n",
        "        loss = criterion(y_predicted, label.float())\n",
        "        #print(loss)\n",
        "        running_loss += loss.item()\n",
        "        # backpropagating\n",
        "        loss.backward()\n",
        "        # optimizes the weights\n",
        "        optimizer.step()\n",
        "        #pred = np.round(y_predicted.cpu().detach())\n",
        "        #target = np.round(label.cpu().detach())             \n",
        "        #y_pred.extend(pred.tolist())\n",
        "        #y_true.extend(target.tolist())\n",
        "    model2.eval()\n",
        "    with torch.no_grad():\n",
        "        for image_val, label_val in valloader:\n",
        "            image_val, label_val = image_val.to(device), label_val.to(device)\n",
        "            label_val = label_val.unsqueeze(1)\n",
        "            y_predicted_val = model2(image_val)\n",
        "            val_loss = criterion(y_predicted_val, label_val.float())\n",
        "            running_loss_val += val_loss.item()\n",
        "            #pred_val = np.round(y_predicted_val.cpu().detach())\n",
        "            #target_val = np.round(label_val.cpu().detach())             \n",
        "            #y_pred_val.extend(pred_val.tolist())\n",
        "            #y_true_val.extend(target_val.tolist())\n",
        "\n",
        "    val_loss_list.append(running_loss_val)\n",
        "    train_loss.append(running_loss)\n",
        "    if (epoch+1) % 10 == 0:\n",
        "        print(f'epoch: {epoch+1}, loss: {running_loss:.4f}')"
      ],
      "metadata": {
        "colab": {
          "base_uri": "https://localhost:8080/"
        },
        "id": "SX7z3Wgf-2Bk",
        "outputId": "9cca1bac-161e-4234-cef7-c86eec56a9ed"
      },
      "execution_count": null,
      "outputs": [
        {
          "output_type": "stream",
          "name": "stdout",
          "text": [
            "epoch: 10, loss: 10.5590\n",
            "epoch: 20, loss: 9.7563\n",
            "epoch: 30, loss: 9.1425\n",
            "epoch: 40, loss: 8.8391\n",
            "epoch: 50, loss: 9.4648\n"
          ]
        }
      ]
    },
    {
      "cell_type": "code",
      "source": [
        "fig=plt.figure()\n",
        "plt.plot(np.arange(1, epochs+1), val_loss_list, label=\"Validatiion loss\")\n",
        "plt.plot(np.arange(1, epochs+1), train_loss, label=\"Train loss\")\n",
        "plt.xlabel('Epochs')\n",
        "plt.ylabel('Loss')\n",
        "plt.title(\"Net2 Pneumonia Classification Loss Plots\")\n",
        "plt.legend(loc='upper right')\n",
        "plt.show()"
      ],
      "metadata": {
        "colab": {
          "base_uri": "https://localhost:8080/",
          "height": 295
        },
        "id": "uxJV8t3S_Pci",
        "outputId": "2c4974ca-e317-4eaa-c3ff-6049978869db"
      },
      "execution_count": null,
      "outputs": [
        {
          "output_type": "display_data",
          "data": {
            "image/png": "[encoded data removed]",
            "text/plain": [
              "<Figure size 432x288 with 1 Axes>"
            ]
          },
          "metadata": {
            "needs_background": "light"
          }
        }
      ]
    },
    {
      "cell_type": "markdown",
      "source": [
        "**Net2 Validation**"
      ],
      "metadata": {
        "id": "ymuCpElN6lP-"
      }
    },
    {
      "cell_type": "code",
      "source": [
        "val_pred = []\n",
        "val_true = []\n",
        "model2.eval()\n",
        "with torch.no_grad():\n",
        "    for image, label in valloader:\n",
        "        image, label = image.to(device), label.to(device)\n",
        "        label = label.unsqueeze(1)\n",
        "        pred = model2(image)\n",
        "        pred = np.round(pred.cpu().detach())\n",
        "        target = np.round(label.cpu().detach())             \n",
        "        val_pred.extend(pred.tolist())\n",
        "        val_true.extend(target.tolist())\n",
        "print(\"Net2 Accuracy for validation set:\" ,         \n",
        "sum([val_true[i]==val_pred[i] for i in range(len(val_true))])/(len(val_true)))\n",
        "print('Net2 F1 score for validation set: ', metrics.f1_score(val_true, val_pred))\n",
        "print('Net2 AUC for validation set: ', metrics.roc_auc_score(val_true, val_pred))\n",
        "print('Net2 Sensitivity for validation set: ', metrics.recall_score(val_true, val_pred))"
      ],
      "metadata": {
        "colab": {
          "base_uri": "https://localhost:8080/"
        },
        "id": "P46MCzeO_kEw",
        "outputId": "356efd85-a8bf-441b-c208-ef98f0a19747"
      },
      "execution_count": null,
      "outputs": [
        {
          "output_type": "stream",
          "name": "stdout",
          "text": [
            "Net2 Accuracy for validation set: 0.91\n",
            "Net2 F1 score for validation set:  0.896551724137931\n",
            "Net2 AUC for validation set:  0.9054596547571256\n",
            "Net2 Sensitivity for validation set:  0.8297872340425532\n"
          ]
        }
      ]
    },
    {
      "cell_type": "markdown",
      "source": [
        "**Net3 Training**"
      ],
      "metadata": {
        "id": "H6r8cEVi6vQ3"
      }
    },
    {
      "cell_type": "code",
      "source": [
        "torch.random.seed()\n",
        "epochs = 50\n",
        "model3 = Net3()\n",
        "model3.to(device)\n",
        "criterion = torch.nn.BCELoss()\n",
        "optimizer = torch.optim.Adam(model3.parameters(), lr=1e-3) \n",
        "train_loss = []\n",
        "val_loss_list = []\n",
        "#y_pred = []\n",
        "#y_true = []\n",
        "#y_pred_val = []\n",
        "#y_true_val = []\n",
        "# traing iteration\n",
        "for epoch in range(epochs):\n",
        "    running_loss = 0\n",
        "    running_loss_val = 0\n",
        "    model3.train()\n",
        "    for image, label in trainloader:\n",
        "        image, label = image.to(device), label.to(device)\n",
        "        label = label.unsqueeze(1)\n",
        "        # zero gradient\n",
        "        optimizer.zero_grad()\n",
        "        # forward path\n",
        "        y_predicted = model3(image)\n",
        "        loss = criterion(y_predicted, label.float())\n",
        "        running_loss += loss.item()\n",
        "        # backpropagating\n",
        "        loss.backward()\n",
        "        # optimizes the weights\n",
        "        optimizer.step()\n",
        "        #pred = np.round(y_predicted.cpu().detach())\n",
        "        #target = np.round(label.cpu().detach())             \n",
        "        #y_pred.extend(pred.tolist())\n",
        "        #y_true.extend(target.tolist())\n",
        "    model3.eval()\n",
        "    with torch.no_grad():\n",
        "        for image_val, label_val in valloader:\n",
        "            image_val, label_val = image_val.to(device), label_val.to(device)\n",
        "            label_val = label_val.unsqueeze(1)\n",
        "            y_predicted_val = model3(image_val)\n",
        "            val_loss = criterion(y_predicted_val, label_val.float())\n",
        "            running_loss_val += val_loss.item()\n",
        "            #pred_val = np.round(y_predicted_val.cpu().detach())\n",
        "            #target_val = np.round(label_val.cpu().detach())             \n",
        "            #y_pred_val.extend(pred_val.tolist())\n",
        "            #y_true_val.extend(target_val.tolist())\n",
        "\n",
        "    val_loss_list.append(running_loss_val)\n",
        "    train_loss.append(running_loss)\n",
        "    if (epoch+1) % 10 == 0:\n",
        "        print(f'epoch: {epoch+1}, loss: {running_loss:.4f}')"
      ],
      "metadata": {
        "colab": {
          "base_uri": "https://localhost:8080/"
        },
        "id": "2Z4kyDkd_lth",
        "outputId": "5819cb79-4efc-478e-ffb9-a3730fe324c3"
      },
      "execution_count": null,
      "outputs": [
        {
          "output_type": "stream",
          "name": "stdout",
          "text": [
            "epoch: 10, loss: 3.2759\n",
            "epoch: 20, loss: 2.0326\n",
            "epoch: 30, loss: 1.5984\n",
            "epoch: 40, loss: 0.8694\n",
            "epoch: 50, loss: 0.3864\n"
          ]
        }
      ]
    },
    {
      "cell_type": "code",
      "source": [
        "fig=plt.figure()\n",
        "plt.plot(np.arange(1, epochs+1), val_loss_list, label=\"Validatiion loss\")\n",
        "plt.plot(np.arange(1, epochs+1), train_loss, label=\"Train loss\")\n",
        "plt.xlabel('Epochs')\n",
        "plt.ylabel('Loss')\n",
        "plt.title(\"Net3 Pneumonia Classification Loss Plots\")\n",
        "plt.legend(loc='upper right')\n",
        "plt.show()"
      ],
      "metadata": {
        "colab": {
          "base_uri": "https://localhost:8080/",
          "height": 295
        },
        "id": "G99rYxKE_0As",
        "outputId": "b8e4beb9-bb2f-4ebd-f640-3271cd79f354"
      },
      "execution_count": null,
      "outputs": [
        {
          "output_type": "display_data",
          "data": {
            "image/png": "[encoded data removed]",
            "text/plain": [
              "<Figure size 432x288 with 1 Axes>"
            ]
          },
          "metadata": {
            "needs_background": "light"
          }
        }
      ]
    },
    {
      "cell_type": "markdown",
      "source": [
        "**Net3 Validation**"
      ],
      "metadata": {
        "id": "oDGZCJkn69m3"
      }
    },
    {
      "cell_type": "code",
      "source": [
        "val_pred = []\n",
        "val_true = []\n",
        "model3.eval()\n",
        "with torch.no_grad():\n",
        "    for image, label in valloader:\n",
        "      image, label = image.to(device), label.to(device)\n",
        "      label = label.unsqueeze(1)\n",
        "      pred = model3(image)\n",
        "      pred = np.round(pred.cpu().detach())\n",
        "      target = np.round(label.cpu().detach())             \n",
        "      val_pred.extend(pred.tolist())\n",
        "      val_true.extend(target.tolist())\n",
        "print(\"Net3 Accuracy for validation set is\" ,         \n",
        "sum([val_true[i]==val_pred[i] for i in range(len(val_true))])/(len(val_true)))\n",
        "print('Net3 F1 score for validation set: ', metrics.f1_score(val_true, val_pred))\n",
        "print('Net3 AUC for validation set: ', metrics.roc_auc_score(val_true, val_pred))\n",
        "print('Net3 Sensitivity for validation set: ', metrics.recall_score(val_true, val_pred))"
      ],
      "metadata": {
        "colab": {
          "base_uri": "https://localhost:8080/"
        },
        "id": "bN4pI2dRAC-_",
        "outputId": "dfc0d270-ea45-4a70-e6f2-9ddd491f17b5"
      },
      "execution_count": null,
      "outputs": [
        {
          "output_type": "stream",
          "name": "stdout",
          "text": [
            "Net3 Accuracy for validation set is 0.965\n",
            "Net3 F1 score for validation set:  0.9625668449197862\n",
            "Net3 AUC for validation set:  0.9645724608590928\n",
            "Net3 Sensitivity for validation set:  0.9574468085106383\n"
          ]
        }
      ]
    },
    {
      "cell_type": "markdown",
      "source": [
        "**Net4 Training**"
      ],
      "metadata": {
        "id": "zT4aUWyz7Hen"
      }
    },
    {
      "cell_type": "code",
      "source": [
        "torch.random.seed()\n",
        "epochs = 50\n",
        "model4 = Net4()\n",
        "model4.to(device)\n",
        "criterion = torch.nn.BCELoss()\n",
        "optimizer = torch.optim.Adam(model4.parameters(), lr=1e-3) \n",
        "train_loss = []\n",
        "val_loss_list = []\n",
        "#y_pred = []\n",
        "#y_true = []\n",
        "#y_pred_val = []\n",
        "#y_true_val = []\n",
        "# traing iteration\n",
        "for epoch in range(epochs):\n",
        "    running_loss = 0\n",
        "    running_loss_val = 0\n",
        "    model4.train()\n",
        "    for image, label in trainloader:\n",
        "        image, label = image.to(device), label.to(device)\n",
        "        label = label.unsqueeze(1)\n",
        "        # zero gradient\n",
        "        optimizer.zero_grad()\n",
        "        # forward path\n",
        "        y_predicted = model4(image)\n",
        "        loss = criterion(y_predicted, label.float())\n",
        "        running_loss += loss.item()\n",
        "        # backpropagating\n",
        "        loss.backward()\n",
        "        # optimizes the weights\n",
        "        optimizer.step()\n",
        "        #pred = np.round(y_predicted.cpu().detach())\n",
        "        #target = np.round(label.cpu().detach())             \n",
        "        #y_pred.extend(pred.tolist())\n",
        "        #y_true.extend(target.tolist()) \n",
        "    model4.eval()\n",
        "    with torch.no_grad():\n",
        "        for image_val, label_val in valloader:\n",
        "            image_val, label_val = image_val.to(device), label_val.to(device)\n",
        "            label_val = label_val.unsqueeze(1)\n",
        "            y_predicted_val = model4(image_val)\n",
        "            val_loss = criterion(y_predicted_val, label_val.float())\n",
        "            running_loss_val += val_loss.item()\n",
        "            #pred_val = np.round(y_predicted_val.cpu().detach())\n",
        "            #target_val = np.round(label_val.cpu().detach())             \n",
        "            #y_pred_val.extend(pred_val.tolist())\n",
        "            #y_true_val.extend(target_val.tolist())\n",
        "\n",
        "    val_loss_list.append(running_loss_val)\n",
        "    train_loss.append(running_loss)\n",
        "    if (epoch+1) % 10 == 0:\n",
        "        print(f'epoch: {epoch+1}, loss: {running_loss:.4f}')"
      ],
      "metadata": {
        "colab": {
          "base_uri": "https://localhost:8080/"
        },
        "id": "d50vNqy1AMnI",
        "outputId": "9a86008d-e93c-42ab-ce29-46ccdb681a49"
      },
      "execution_count": null,
      "outputs": [
        {
          "output_type": "stream",
          "name": "stdout",
          "text": [
            "epoch: 10, loss: 3.2480\n",
            "epoch: 20, loss: 1.0097\n",
            "epoch: 30, loss: 0.8829\n",
            "epoch: 40, loss: 0.1206\n",
            "epoch: 50, loss: 0.0161\n"
          ]
        }
      ]
    },
    {
      "cell_type": "code",
      "source": [
        "fig=plt.figure()\n",
        "plt.plot(np.arange(1, epochs+1), val_loss_list, label=\"Validatiion loss\")\n",
        "plt.plot(np.arange(1, epochs+1), train_loss, label=\"Train loss\")\n",
        "plt.xlabel('Epochs')\n",
        "plt.ylabel('Loss')\n",
        "plt.title(\"Net4 Pneumonia Classification Loss Plots\")\n",
        "plt.legend(loc='upper right')\n",
        "plt.show()"
      ],
      "metadata": {
        "colab": {
          "base_uri": "https://localhost:8080/",
          "height": 295
        },
        "id": "U90oR1TLAcXr",
        "outputId": "dfac9e90-8d63-4034-9092-5a0498c8a14c"
      },
      "execution_count": null,
      "outputs": [
        {
          "output_type": "display_data",
          "data": {
            "image/png": "[encoded data removed]",
            "text/plain": [
              "<Figure size 432x288 with 1 Axes>"
            ]
          },
          "metadata": {
            "needs_background": "light"
          }
        }
      ]
    },
    {
      "cell_type": "code",
      "source": [
        "val_pred = []\n",
        "val_true = []\n",
        "model4.eval()\n",
        "with torch.no_grad():\n",
        "    for image, label in valloader:\n",
        "      image, label = image.to(device), label.to(device)\n",
        "      label = label.unsqueeze(1)\n",
        "      pred = model4(image)\n",
        "      pred = np.round(pred.cpu().detach())\n",
        "      target = np.round(label.cpu().detach())             \n",
        "      val_pred.extend(pred.tolist())\n",
        "      val_true.extend(target.tolist())\n",
        "print(\"Net4 Accuracy for validation set is\" ,         \n",
        "sum([val_true[i]==val_pred[i] for i in range(len(val_true))])/(len(val_true)))\n",
        "print('Net4 F1 score for validation set: ', metrics.f1_score(val_true, val_pred))\n",
        "print('Net4 AUC for validation set: ', metrics.roc_auc_score(val_true, val_pred))\n",
        "print('Net4 Sensitivity for validation set: ', metrics.recall_score(val_true, val_pred))"
      ],
      "metadata": {
        "colab": {
          "base_uri": "https://localhost:8080/"
        },
        "id": "8YspqZG5Fnb8",
        "outputId": "d037804e-1841-4744-b1c2-d297d265f4a9"
      },
      "execution_count": null,
      "outputs": [
        {
          "output_type": "stream",
          "name": "stdout",
          "text": [
            "Net4 Accuracy for validation set is 0.955\n",
            "Net4 F1 score for validation set:  0.9518716577540107\n",
            "Net4 AUC for validation set:  0.954536330790847\n",
            "Net4 Sensitivity for validation set:  0.9468085106382979\n"
          ]
        }
      ]
    },
    {
      "cell_type": "markdown",
      "source": [
        "**Net1, Net2, Net3, Net4 Ensemble Validation**"
      ],
      "metadata": {
        "id": "EwYEqyHBGsgp"
      }
    },
    {
      "cell_type": "code",
      "source": [
        "val_pred = []\n",
        "val_true = []\n",
        "model1.eval()\n",
        "model2.eval()\n",
        "model3.eval()\n",
        "model4.eval()\n",
        "with torch.no_grad():\n",
        "    for image, label in valloader:\n",
        "        image, label = image.to(device), label.to(device)\n",
        "        label = label.unsqueeze(1)\n",
        "        pred1 = model1(image)\n",
        "        pred2 = model2(image)\n",
        "        pred3 = model3(image)\n",
        "        pred4 = model4(image)  \n",
        "        pred = np.round((pred1.cpu().detach()+pred2.cpu().detach()+pred3.cpu().detach()+pred4.cpu().detach())/4)\n",
        "        target = np.round(label.cpu().detach())             \n",
        "        val_pred.extend(pred.tolist())\n",
        "        val_true.extend(target.tolist())\n",
        "print(\"Net4 Accuracy for validation set:\" ,         \n",
        "sum([val_true[i]==val_pred[i] for i in range(len(val_true))])/(len(val_true)))\n",
        "print('Net4 F1 score for validation set: ', metrics.f1_score(val_true, val_pred))\n",
        "print('Net4 AUC for validation set: ', metrics.roc_auc_score(val_true, val_pred))\n",
        "print('Net4 Sensitivity for validation set: ', metrics.recall_score(val_true, val_pred))"
      ],
      "metadata": {
        "colab": {
          "base_uri": "https://localhost:8080/"
        },
        "id": "qlpCUt3HGAL1",
        "outputId": "2e5ced05-884e-4fea-9f85-644098a35c9c"
      },
      "execution_count": null,
      "outputs": [
        {
          "output_type": "stream",
          "name": "stdout",
          "text": [
            "Net4 Accuracy for validation set: 0.95\n",
            "Net4 F1 score for validation set:  0.9456521739130436\n",
            "Net4 AUC for validation set:  0.9486150140505821\n",
            "Net4 Sensitivity for validation set:  0.925531914893617\n"
          ]
        }
      ]
    },
    {
      "cell_type": "markdown",
      "source": [
        "**Test set evaluation using model with best performance on validation set (Net3)**"
      ],
      "metadata": {
        "id": "KiEnSOnn7kqY"
      }
    },
    {
      "cell_type": "code",
      "source": [
        "test_pred = []\n",
        "test_true = []\n",
        "model3.eval()\n",
        "with torch.no_grad():\n",
        "    for image, label in testloader:\n",
        "        image, label = image.to(device), label.to(device)\n",
        "        label = label.unsqueeze(1)\n",
        "        model3.eval()\n",
        "        pred = model3(image)\n",
        "        pred = np.round(pred.cpu().detach())\n",
        "        target = np.round(label.cpu().detach())             \n",
        "        test_pred.extend(pred.tolist())\n",
        "        test_true.extend(target.tolist())\n",
        "print(\"Accuracy on test set is\" ,         \n",
        "sum([test_true[i]==test_pred[i] for i in range(len(test_true))])/(len(test_true)))\n",
        "print('F1 score: ', metrics.f1_score(test_true, test_pred))\n",
        "print('AUC: ', metrics.roc_auc_score(test_true, test_pred))\n",
        "print('Sensitivity: ', metrics.recall_score(test_true, test_pred))"
      ],
      "metadata": {
        "colab": {
          "base_uri": "https://localhost:8080/"
        },
        "id": "gQg2qXcTAkq-",
        "outputId": "59fc481c-617d-44ec-9917-1a4cae2feb08"
      },
      "execution_count": null,
      "outputs": [
        {
          "output_type": "stream",
          "name": "stdout",
          "text": [
            "Accuracy on test set is 0.945\n",
            "F1 score:  0.9463414634146341\n",
            "AUC:  0.9455128205128206\n",
            "Sensitivity:  0.9326923076923077\n"
          ]
        }
      ]
    }
  ],
  "metadata": {
    "accelerator": "GPU",
    "colab": {
      "provenance": []
    },
    "kernelspec": {
      "display_name": "Python 3",
      "name": "python3"
    },
    "language_info": {
      "name": "python"
    }
  },
  "nbformat": 4,
  "nbformat_minor": 0
}