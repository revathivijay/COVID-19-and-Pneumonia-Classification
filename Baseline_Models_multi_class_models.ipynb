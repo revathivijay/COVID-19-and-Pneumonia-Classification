{
  "nbformat": 4,
  "nbformat_minor": 0,
  "metadata": {
    "colab": {
      "provenance": [],
      "collapsed_sections": [
        "OItybWl1YWNm",
        "yBFM4ateVx2c",
        "NGtpskjGYejt",
        "TW7L3kWPqIfj",
        "vHPPxbRyqTEm",
        "27znPxaMZYhI",
        "LgO5SCNXZa1i",
        "zqIKyjVCZoet",
        "hJADRWQOrAGv",
        "dtTl3Gkmsprt",
        "rfIZcudyUkWx",
        "CRP0T2Krtb0F",
        "VQ36b0DNtBN9",
        "W9dz_xlbZf3X",
        "KZwfykZWZh7d",
        "6BS5_5fgZkjn",
        "N5u2pO_c14TL"
      ]
    },
    "kernelspec": {
      "name": "python3",
      "display_name": "Python 3"
    },
    "language_info": {
      "name": "python"
    },
    "accelerator": "GPU"
  },
  "cells": [
    {
      "cell_type": "code",
      "metadata": {
        "colab": {
          "base_uri": "https://localhost:8080/"
        },
        "id": "QdZcxFluqAfr",
        "outputId": "e49913b6-6f70-403f-ec37-ce30ea14b369"
      },
      "source": [
        "from google.colab import drive\n",
        "drive.mount('/content/gdrive')"
      ],
      "execution_count": null,
      "outputs": [
        {
          "output_type": "stream",
          "name": "stdout",
          "text": [
            "Drive already mounted at /content/gdrive; to attempt to forcibly remount, call drive.mount(\"/content/gdrive\", force_remount=True).\n"
          ]
        }
      ]
    },
    {
      "cell_type": "code",
      "metadata": {
        "colab": {
          "base_uri": "https://localhost:8080/"
        },
        "id": "rFBGfk9TqeeT",
        "outputId": "6ac51f26-2c94-40a1-94d9-9df60ec1d287"
      },
      "source": [
        "cd '/content/gdrive/Shareddrives/520 - Machine Learning Project/'"
      ],
      "execution_count": null,
      "outputs": [
        {
          "output_type": "stream",
          "name": "stdout",
          "text": [
            "/content/gdrive/Shareddrives/520 - Machine Learning Project\n"
          ]
        }
      ]
    },
    {
      "cell_type": "code",
      "metadata": {
        "id": "8lvP8Pz8mRkl"
      },
      "source": [
        "import PIL\n",
        "import tensorflow as tf\n",
        "\n",
        "# load and show an image with Pillow\n",
        "from PIL import Image\n",
        "import sklearn\n",
        "import torch\n",
        "import os\n",
        "import cv2\n",
        "\n",
        "import numpy as np\n",
        "import pandas as pd\n",
        "import matplotlib.pyplot as plt\n",
        "import seaborn as sns\n",
        "\n",
        "from sklearn.datasets import fetch_olivetti_faces\n",
        "from sklearn.utils.validation import check_random_state\n",
        "from sklearn.metrics import precision_score, recall_score, f1_score, accuracy_score, roc_auc_score\n",
        "\n",
        "from sklearn.ensemble import ExtraTreesRegressor\n",
        "from sklearn.neighbors import KNeighborsRegressor\n",
        "from sklearn.linear_model import LinearRegression, LogisticRegression\n",
        "from sklearn.linear_model import RidgeCV\n",
        "from sklearn.tree import DecisionTreeClassifier\n",
        "from sklearn.ensemble import ExtraTreesClassifier, RandomForestClassifier, BaggingClassifier\n",
        "from sklearn.model_selection import train_test_split\n",
        "from sklearn.metrics import multilabel_confusion_matrix"
      ],
      "execution_count": null,
      "outputs": []
    },
    {
      "cell_type": "code",
      "metadata": {
        "id": "VfUl_mJZWLs8"
      },
      "source": [
        "import warnings\n",
        "warnings.filterwarnings('ignore')"
      ],
      "execution_count": null,
      "outputs": []
    },
    {
      "cell_type": "code",
      "metadata": {
        "id": "Slxb02c_Er2u"
      },
      "source": [
        "%matplotlib inline"
      ],
      "execution_count": null,
      "outputs": []
    },
    {
      "cell_type": "markdown",
      "metadata": {
        "id": "6pYE5bJuYNH1"
      },
      "source": [
        "## READING THE DATA AND TRIVIAL MANIPULATIONS"
      ]
    },
    {
      "cell_type": "code",
      "metadata": {
        "colab": {
          "base_uri": "https://localhost:8080/"
        },
        "id": "g6nFaARfpbc8",
        "outputId": "6f8097f8-6754-4a39-cee1-059be77f1167"
      },
      "source": [
        "# setting paths \n",
        "BASE_DIR = 'Dataset/'\n",
        "\n",
        "NORMAL_DIR = os.path.join(BASE_DIR + 'Normal/')\n",
        "PNEUMONIA_DIR = os.path.join(BASE_DIR + 'Viral Pneumonia/')\n",
        "COVID_DIR = os.path.join(BASE_DIR + 'COVID/')\n",
        "\n",
        "print(len(os.listdir(NORMAL_DIR)))\n",
        "print(len(os.listdir(PNEUMONIA_DIR)))\n",
        "print(len(os.listdir(COVID_DIR)))"
      ],
      "execution_count": null,
      "outputs": [
        {
          "output_type": "stream",
          "name": "stdout",
          "text": [
            "1230\n",
            "1345\n",
            "2000\n"
          ]
        }
      ]
    },
    {
      "cell_type": "code",
      "source": [
        "# setting paths - Small dataset (used to train TL model)\n",
        "BASE_DIR = 'Dataset/'\n",
        "\n",
        "SMALL_NORMAL_DIR = os.path.join(BASE_DIR + 'Normal2/')\n",
        "SMALL_PNEUMONIA_DIR = os.path.join(BASE_DIR + 'Viral_Pneumonia2/')\n",
        "SMALL_COVID_DIR = os.path.join(BASE_DIR + 'COVID2/')\n",
        "\n",
        "print(len(os.listdir(SMALL_NORMAL_DIR)))\n",
        "print(len(os.listdir(SMALL_PNEUMONIA_DIR)))\n",
        "print(len(os.listdir(SMALL_COVID_DIR)))"
      ],
      "metadata": {
        "colab": {
          "base_uri": "https://localhost:8080/"
        },
        "id": "qkZ4HpChN6nY",
        "outputId": "dbd9b620-da5e-4b49-d4bc-05326742bd82"
      },
      "execution_count": null,
      "outputs": [
        {
          "output_type": "stream",
          "name": "stdout",
          "text": [
            "500\n",
            "500\n",
            "500\n"
          ]
        }
      ]
    },
    {
      "cell_type": "code",
      "metadata": {
        "id": "-uWpJ6bV1HuT"
      },
      "source": [
        "# Reading the data\n",
        "loaded_images = []\n",
        "normal = []\n",
        "pneumonia = []\n",
        "covid = []\n",
        "labels = []\n",
        "IMG_SIZE = 299"
      ],
      "execution_count": null,
      "outputs": []
    },
    {
      "cell_type": "code",
      "metadata": {
        "id": "Co3SjR_uwg0-"
      },
      "source": [
        "for filename in os.listdir(NORMAL_DIR):\n",
        "\t# load image\n",
        "  img_data = Image.open(NORMAL_DIR + filename)\n",
        "  img_data = img_data.resize((IMG_SIZE, IMG_SIZE))\n",
        "  img_data = img_data.convert(\"RGB\")\n",
        "\t# store loaded image\n",
        "  loaded_images.append(img_data)\n",
        "  normal.append(img_data)\n",
        "  labels.append(0)\n",
        "\n",
        "for filename in os.listdir(COVID_DIR):\n",
        "  # load image\n",
        "  img_data = Image.open(COVID_DIR + filename)\n",
        "  img_data = img_data.resize((IMG_SIZE, IMG_SIZE))\n",
        "  img_data = img_data.convert(\"RGB\")\n",
        "\t# store loaded image\n",
        "  loaded_images.append(img_data)\n",
        "  covid.append(img_data)\n",
        "  labels.append(1)\n",
        "\n",
        "for filename in os.listdir(PNEUMONIA_DIR):\n",
        "  # load image\n",
        "  img_data = Image.open(PNEUMONIA_DIR + filename)\n",
        "  img_data = img_data.resize((IMG_SIZE, IMG_SIZE))\n",
        "  img_data = img_data.convert(\"RGB\")\n",
        "\t# store loaded image\n",
        "  loaded_images.append(img_data)\n",
        "  pneumonia.append(img_data)\n",
        "  labels.append(2)"
      ],
      "execution_count": null,
      "outputs": []
    },
    {
      "cell_type": "code",
      "metadata": {
        "colab": {
          "base_uri": "https://localhost:8080/"
        },
        "id": "3PkmKxmSyirv",
        "outputId": "74d59fce-3140-497f-f4ef-6059965a7373"
      },
      "source": [
        "print(len(labels))\n",
        "print(len(loaded_images))"
      ],
      "execution_count": null,
      "outputs": [
        {
          "output_type": "stream",
          "name": "stdout",
          "text": [
            "4575\n",
            "4575\n"
          ]
        }
      ]
    },
    {
      "cell_type": "code",
      "metadata": {
        "id": "VQnrzt5a34iw"
      },
      "source": [
        "def convert_and_flatten(image):\n",
        "  image = np.asarray(image)\n",
        "  image = cv2.cvtColor(image, cv2.COLOR_BGR2GRAY)\n",
        "  image = image.flatten()\n",
        "  # print(image.shape)\n",
        "  return image"
      ],
      "execution_count": null,
      "outputs": []
    },
    {
      "cell_type": "code",
      "metadata": {
        "id": "z6ZejS_Y3pWG"
      },
      "source": [
        "X = [convert_and_flatten(image) for image in loaded_images]\n",
        "y = np.array(labels)\n",
        "X_train, X_test, y_train, y_test = train_test_split(X, y, test_size=0.2, random_state=42)"
      ],
      "execution_count": null,
      "outputs": []
    },
    {
      "cell_type": "code",
      "metadata": {
        "colab": {
          "base_uri": "https://localhost:8080/"
        },
        "id": "Alj5HPey8eLd",
        "outputId": "694feba9-37d0-4f22-ce13-92e813b6e856"
      },
      "source": [
        "print(len(X_train))\n",
        "print(len(X_test))"
      ],
      "execution_count": null,
      "outputs": [
        {
          "output_type": "stream",
          "name": "stdout",
          "text": [
            "3660\n",
            "915\n"
          ]
        }
      ]
    },
    {
      "cell_type": "code",
      "metadata": {
        "colab": {
          "base_uri": "https://localhost:8080/"
        },
        "id": "oq8dVyYKEEVT",
        "outputId": "b4e69949-eb7d-4761-c2a7-e057d3e0f41d"
      },
      "source": [
        "print(np.asarray(loaded_images[0]).shape)"
      ],
      "execution_count": null,
      "outputs": [
        {
          "output_type": "stream",
          "name": "stdout",
          "text": [
            "(299, 299, 3)\n"
          ]
        }
      ]
    },
    {
      "cell_type": "code",
      "metadata": {
        "colab": {
          "base_uri": "https://localhost:8080/"
        },
        "id": "m-VV39BeHqhA",
        "outputId": "40c14888-8ffa-47a3-8400-fb4a6e087cb8"
      },
      "source": [
        "print(X_train[0].shape)"
      ],
      "execution_count": null,
      "outputs": [
        {
          "output_type": "stream",
          "name": "stdout",
          "text": [
            "(89401,)\n"
          ]
        }
      ]
    },
    {
      "cell_type": "code",
      "source": [
        "# def read_data(class_name, IMG_SIZE=299, NORMAL_DIR=NORMAL_DIR, COVID_DIR=COVID_DIR, PNEUMONIA_DIR=PNEUMONIA_DIR):\n",
        "#   loaded_images = []\n",
        "#   labels = []\n",
        "#   for filename in os.listdir(NORMAL_DIR):\n",
        "#       img_data = Image.open(NORMAL_DIR + filename)\n",
        "#       img_data = img_data.resize((IMG_SIZE, IMG_SIZE))\n",
        "#       img_data = img_data.convert(\"RGB\")\n",
        "#       loaded_images.append(img_data)\n",
        "#       labels.append(0)\n",
        "    \n",
        "#   if class_name =='covid':\n",
        "#     for filename in os.listdir(COVID_DIR):\n",
        "#       img_data = Image.open(COVID_DIR + filename)\n",
        "#       img_data = img_data.resize((IMG_SIZE, IMG_SIZE))\n",
        "#       img_data = img_data.convert(\"RGB\")\n",
        "#       loaded_images.append(img_data)\n",
        "#       labels.append(1)\n",
        "  \n",
        "#   elif class_name == 'pneumonia':\n",
        "#     for filename in os.listdir(PNEUMONIA_DIR):\n",
        "#       img_data = Image.open(PNEUMONIA_DIR + filename)\n",
        "#       img_data = img_data.resize((IMG_SIZE, IMG_SIZE))\n",
        "#       img_data = img_data.convert(\"RGB\")\n",
        "#       loaded_images.append(img_data)\n",
        "#       labels.append(1)\n",
        "\n",
        "#   return loaded_images, labels"
      ],
      "metadata": {
        "id": "z3BGjG7NU0xC"
      },
      "execution_count": null,
      "outputs": []
    },
    {
      "cell_type": "markdown",
      "metadata": {
        "id": "OItybWl1YWNm"
      },
      "source": [
        "## EXPLORATORY DATA ANALYSIS, PREPROCESSING"
      ]
    },
    {
      "cell_type": "code",
      "metadata": {
        "colab": {
          "base_uri": "https://localhost:8080/",
          "height": 336
        },
        "id": "mPMWOMvFYVDT",
        "outputId": "27b42d12-1ac6-4230-d48d-c7b0717177b0"
      },
      "source": [
        "#Samples per class\n",
        "fig = plt.figure()\n",
        "ax = fig.add_axes([0,0,1,1])\n",
        "x = ['Normal', 'COVID', 'Viral Pneumonia']\n",
        "y = [len(os.listdir(SMALL_NORMAL_DIR)), len(os.listdir(SMALL_COVID_DIR)), len(os.listdir(SMALL_PNEUMONIA_DIR))]\n",
        "ax.bar(x,y)\n",
        "plt.show()"
      ],
      "execution_count": null,
      "outputs": [
        {
          "output_type": "display_data",
          "data": {
            "image/png": "[encoded data removed]",
            "text/plain": [
              "<Figure size 432x288 with 1 Axes>"
            ]
          },
          "metadata": {
            "needs_background": "light"
          }
        }
      ]
    },
    {
      "cell_type": "markdown",
      "metadata": {
        "id": "whuFs0gjbyiE"
      },
      "source": [
        "INFERENCE AND ASSUMPTIONS GOING FORWARD:\n",
        "\n",
        "1.   For this application, the main goal is to recognise Covid-19 patients. It will be interesting to see if the model will have greater difficulty in identifying Pneumonia or Covid samples.\n",
        "2.   Similar to other health conditions, prediction problems or unbalanced datasets, it is necessary to prioritise Precision or Recall, since Accuracy can be misleading. The F1-Score is also a reasonable option."
      ]
    },
    {
      "cell_type": "markdown",
      "source": [
        "## Analysis - different forms, what is needed:\n",
        "---\n",
        "\n",
        "**Baseline Models**\n",
        "---\n",
        "\n",
        "1. No-model (mode of the data)\n",
        "\n",
        "2. Logistic Regression (with hyperparameter tuning)\n",
        "\n",
        "3. Decision Trees (with hyperparameter tuning)\n",
        "\n",
        "4. KNN (Change the value of k=1:20)\n",
        "\n",
        "5. Ensemble Methods (Random Forest, Bagging, ExtraTreeClassifier) \n",
        "\n",
        "**Metrics**\n",
        "\n",
        "---\n",
        "\n",
        "1.   Recall\n",
        "2.   F1 Score\n",
        "3.   ROC AUC\n",
        "4.   Accuracy\n",
        "5.   Precision\n",
        "\n",
        "**Inferences/TODOs**\n",
        "\n",
        "---\n",
        "\n",
        "\n",
        "1. Which has the highest recall - best model among baseline models\n",
        "2. Size of dataset\n",
        "3. Effect of Regularization\n",
        "4. Overfitting in DTs\n",
        "5. Effect of Hyperparameter tuning\n",
        "6. Effect of Feature Scaling\n",
        "7. Effect on unseen data (new dataset)\n",
        "8. Individual class precision and recall (for Pneumonia and COVID only)\n",
        "9. Training all together, vs training separately\n",
        "\n"
      ],
      "metadata": {
        "id": "Ppebq-lbLrXE"
      }
    },
    {
      "cell_type": "markdown",
      "source": [
        "### confusion matrix params"
      ],
      "metadata": {
        "id": "yBFM4ateVx2c"
      }
    },
    {
      "cell_type": "code",
      "metadata": {
        "id": "_kYo7qdvWfI7"
      },
      "source": [
        "def extract_metrics(confusion_matrix):\n",
        "  scores = {0:{}, 1:{}, 2:{}}\n",
        "  for i in range(len(confusion_matrix)):\n",
        "    matrix = confusion_matrix[i]\n",
        "    TN = matrix[0][0]\n",
        "    FP = matrix[0][1]\n",
        "    FN = matrix[1][0]\n",
        "    TP = matrix[1][1]\n",
        "    total = TP + TN + FP + FN\n",
        "    accuracy = (TP+TN)/total\n",
        "    precision = (TP)/(TP + FP)\n",
        "    recall = TP/(TP + FN)\n",
        "    f1 = (2*precision*recall)/(precision + recall)\n",
        "    scores[i]['accuracy'] = accuracy\n",
        "    scores[i]['recall'] = recall\n",
        "    scores[i]['precision'] = precision\n",
        "    scores[i]['f1'] = f1\n",
        "  return scores\n",
        "\n",
        "def overall_metrics(confusion_matrix):\n",
        "  pass\n",
        "\n",
        "def print_metrics(scores):\n",
        "  for i in range(len(scores)):\n",
        "    score_curr = scores[i]\n",
        "    print(f\"Class {i} \\n Accuracy: {score_curr['accuracy']} \\n Precision: {score_curr['precision']} \\n Recall: {score_curr['recall']} \\n f1: {score_curr['f1']}\")\n",
        "    print()\n",
        "\n",
        "def perform_metric_calculations(confusion_matrix):\n",
        "  scores = extract_metrics(confusion_matrix)\n",
        "  # overall_scores = overall_metrics(confusion_matrix)\n",
        "  print_metrics(scores)"
      ],
      "execution_count": null,
      "outputs": []
    },
    {
      "cell_type": "markdown",
      "source": [
        "# PART 1 - Normal and Pneumonia"
      ],
      "metadata": {
        "id": "xN1UhZASUfsV"
      }
    },
    {
      "cell_type": "markdown",
      "source": [
        "## Reading the data"
      ],
      "metadata": {
        "id": "SGUGNM5zVmnu"
      }
    },
    {
      "cell_type": "code",
      "source": [
        "# loaded_images, labels = read_data('pneumonia')\n",
        "# X = [convert_and_flatten(image) for image in loaded_images]\n",
        "# y = np.array(labels)\n",
        "# X_train, X_test, y_train, y_test = train_test_split(X, y, test_size=0.20, random_state=42)"
      ],
      "metadata": {
        "id": "Xv1bNMExV1Oo"
      },
      "execution_count": null,
      "outputs": []
    },
    {
      "cell_type": "code",
      "source": [
        "# print(len(X_train))\n",
        "# print(len(X_test))\n",
        "# print(len(y_train))\n",
        "# print(len(y_test))"
      ],
      "metadata": {
        "colab": {
          "base_uri": "https://localhost:8080/"
        },
        "id": "5Z_1ATsJWCz6",
        "outputId": "6c66635b-84c5-457c-a22a-170d3203bf9a"
      },
      "execution_count": null,
      "outputs": [
        {
          "output_type": "stream",
          "name": "stdout",
          "text": [
            "800\n",
            "200\n",
            "800\n",
            "200\n"
          ]
        }
      ]
    },
    {
      "cell_type": "code",
      "source": [
        "print(np.array(X_train).shape)\n",
        "print(X_train[0][:10])"
      ],
      "metadata": {
        "colab": {
          "base_uri": "https://localhost:8080/"
        },
        "id": "k87B7J0PresM",
        "outputId": "9d6275a8-d7fa-464c-8724-2baf1bb0cda9"
      },
      "execution_count": null,
      "outputs": [
        {
          "output_type": "stream",
          "name": "stdout",
          "text": [
            "(800, 268203)\n",
            "[36 36 36 42 42 42 47 47 47 52]\n"
          ]
        }
      ]
    },
    {
      "cell_type": "markdown",
      "metadata": {
        "id": "NGtpskjGYejt"
      },
      "source": [
        "## Logistic Regression"
      ]
    },
    {
      "cell_type": "markdown",
      "source": [
        "###Larger dataset"
      ],
      "metadata": {
        "id": "TW7L3kWPqIfj"
      }
    },
    {
      "cell_type": "code",
      "metadata": {
        "colab": {
          "base_uri": "https://localhost:8080/"
        },
        "id": "DhBfZ15bO_Wy",
        "outputId": "acc57acc-a83e-40ef-ec32-08da43cfbe86"
      },
      "source": [
        "# LOGISTIC REGRESSION WITH NO REGULARIZATION\n",
        "model = LogisticRegression(penalty='none', max_iter=100)\n",
        "model.fit(X_train, y_train)\n",
        "preds = model.predict(X_test)\n",
        "\n",
        "print(\"Overall scores\")\n",
        "print('-------------------------------------------')\n",
        "print(\"Accuracy: \", accuracy_score(y_test, preds))\n",
        "print(\"Precision: \", precision_score(y_test, preds, average = 'weighted'))\n",
        "print(\"Recall: \", recall_score(y_test, preds, average = 'weighted'))\n",
        "print(\"F1: \", f1_score(y_test, preds, average = 'weighted'))\n",
        "# print(\"ROC: \", roc_auc_score(y_test, preds, average = 'weighted'))"
      ],
      "execution_count": null,
      "outputs": [
        {
          "output_type": "stream",
          "name": "stdout",
          "text": [
            "Overall scores\n",
            "-------------------------------------------\n",
            "Accuracy:  0.8646288209606987\n",
            "Precision:  0.8635836603223387\n",
            "Recall:  0.8646288209606987\n",
            "F1:  0.8635343427793669\n"
          ]
        }
      ]
    },
    {
      "cell_type": "code",
      "metadata": {
        "colab": {
          "base_uri": "https://localhost:8080/"
        },
        "id": "ZCnNB2XxQIZY",
        "outputId": "a4304019-a900-4a75-f88a-0155085f65b1"
      },
      "source": [
        "# LOGISTIC REGRESSION WITH NO REGULARIZATION - INCREASE ITERATIONS\n",
        "model = LogisticRegression(penalty='none', max_iter=1000) ## did converge, but accuracy is lower\n",
        "model.fit(X_train, y_train)\n",
        "preds = model.predict(X_test)\n",
        "\n",
        "print(\"Overall scores\")\n",
        "print('-------------------------------------------')\n",
        "print(\"Accuracy: \", accuracy_score(y_test, preds))\n",
        "print(\"Precision: \", precision_score(y_test, preds, average = 'weighted'))\n",
        "print(\"Recall: \", recall_score(y_test, preds, average = 'weighted'))\n",
        "print(\"F1: \", f1_score(y_test, preds, average = 'weighted'))"
      ],
      "execution_count": null,
      "outputs": [
        {
          "output_type": "stream",
          "name": "stdout",
          "text": [
            "Overall scores\n",
            "-------------------------------------------\n",
            "Accuracy:  0.8427947598253275\n",
            "Precision:  0.8415638932225585\n",
            "Recall:  0.8427947598253275\n",
            "F1:  0.8406387146906567\n"
          ]
        }
      ]
    },
    {
      "cell_type": "code",
      "metadata": {
        "colab": {
          "base_uri": "https://localhost:8080/"
        },
        "id": "yCxf7GbpNnTI",
        "outputId": "46d47da2-444b-462d-f9d2-f30a356dc65d"
      },
      "source": [
        "# LOG REG WITH L2 PENALTY\n",
        "model = LogisticRegression(penalty='l2', max_iter=100)\n",
        "model.fit(X_train, y_train)\n",
        "preds = model.predict(X_test)\n",
        "\n",
        "print(\"Overall scores\")\n",
        "print('-------------------------------------------')\n",
        "print(\"Accuracy: \", accuracy_score(y_test, preds))\n",
        "print(\"Precision: \", precision_score(y_test, preds, average = 'weighted'))\n",
        "print(\"Recall: \", recall_score(y_test, preds, average = 'weighted'))\n",
        "print(\"F1: \", f1_score(y_test, preds, average = 'weighted'))"
      ],
      "execution_count": null,
      "outputs": [
        {
          "output_type": "stream",
          "name": "stdout",
          "text": [
            "Overall scores\n",
            "-------------------------------------------\n",
            "Accuracy:  0.8557377049180328\n",
            "Precision:  0.8557381533434208\n",
            "Recall:  0.8557377049180328\n",
            "F1:  0.8555188946451365\n"
          ]
        }
      ]
    },
    {
      "cell_type": "code",
      "metadata": {
        "id": "KXab762LPW8j",
        "colab": {
          "base_uri": "https://localhost:8080/"
        },
        "outputId": "224551dc-f5b7-4a2f-ff25-608c2be3526b"
      },
      "source": [
        "# LOG REGRESSION WITH FEATURE SCALING\n",
        "from sklearn.preprocessing import MinMaxScaler\n",
        "scaler = MinMaxScaler(feature_range = (0,1))\n",
        "scaler.fit(X_train)\n",
        "X_train_scaled = scaler.transform(X_train)\n",
        "X_test_scaled = scaler.transform(X_test)\n",
        "model = LogisticRegression(penalty='none', max_iter=100)\n",
        "model.fit(X_train_scaled, y_train)\n",
        "preds = model.predict(X_test_scaled)\n",
        "\n",
        "\n",
        "print(\"Overall scores\")\n",
        "print('-------------------------------------------')\n",
        "print(\"Accuracy: \", accuracy_score(y_test, preds))\n",
        "print(\"Precision: \", precision_score(y_test, preds, average = 'weighted'))\n",
        "print(\"Recall: \", recall_score(y_test, preds, average = 'weighted'))\n",
        "print(\"F1: \", f1_score(y_test, preds, average = 'weighted'))"
      ],
      "execution_count": null,
      "outputs": [
        {
          "output_type": "stream",
          "name": "stdout",
          "text": [
            "Overall scores\n",
            "-------------------------------------------\n",
            "Accuracy:  0.8622950819672132\n",
            "Precision:  0.8611924475626406\n",
            "Recall:  0.8622950819672132\n",
            "F1:  0.8615066586593922\n"
          ]
        }
      ]
    },
    {
      "cell_type": "markdown",
      "source": [
        "### Smaller dataset"
      ],
      "metadata": {
        "id": "vHPPxbRyqTEm"
      }
    },
    {
      "cell_type": "code",
      "source": [
        "# LOGISTIC REGRESSION WITH NO REGULARIZATION\n",
        "model = LogisticRegression(penalty='none', max_iter=100)\n",
        "model.fit(X_train, y_train)\n",
        "preds = model.predict(X_test)\n",
        "\n",
        "print(\"Overall scores\")\n",
        "print('-------------------------------------------')\n",
        "print(\"Accuracy: \", accuracy_score(y_test, preds))\n",
        "print(\"Precision: \", precision_score(y_test, preds))\n",
        "print(\"Recall: \", recall_score(y_test, preds))\n",
        "print(\"F1: \", f1_score(y_test, preds))\n",
        "print(\"ROC: \", roc_auc_score(y_test, preds))"
      ],
      "metadata": {
        "colab": {
          "base_uri": "https://localhost:8080/"
        },
        "id": "tjf6zClzqSz6",
        "outputId": "37f5be2c-4d48-4d60-cf2b-19174fbd751b"
      },
      "execution_count": null,
      "outputs": [
        {
          "output_type": "stream",
          "name": "stdout",
          "text": [
            "Overall scores\n",
            "-------------------------------------------\n",
            "Accuracy:  0.91\n",
            "Precision:  0.93\n",
            "Recall:  0.8942307692307693\n",
            "F1:  0.911764705882353\n",
            "ROC:  0.9106570512820512\n"
          ]
        }
      ]
    },
    {
      "cell_type": "code",
      "source": [
        "# LOGISTIC REGRESSION WITH NO REGULARIZATION\n",
        "model = LogisticRegression(penalty='none', max_iter=1000)\n",
        "model.fit(X_train, y_train)\n",
        "preds = model.predict(X_test)\n",
        "\n",
        "print(\"Overall scores\")\n",
        "print('-------------------------------------------')\n",
        "print(\"Accuracy: \", accuracy_score(y_test, preds))\n",
        "print(\"Precision: \", precision_score(y_test, preds))\n",
        "print(\"Recall: \", recall_score(y_test, preds))\n",
        "print(\"F1: \", f1_score(y_test, preds))\n",
        "print(\"ROC: \", roc_auc_score(y_test, preds))"
      ],
      "metadata": {
        "colab": {
          "base_uri": "https://localhost:8080/"
        },
        "id": "_dE1xLg-qWlW",
        "outputId": "183dd7db-84a1-40f9-fcce-619274fadfdf"
      },
      "execution_count": null,
      "outputs": [
        {
          "output_type": "stream",
          "name": "stdout",
          "text": [
            "Overall scores\n",
            "-------------------------------------------\n",
            "Accuracy:  0.91\n",
            "Precision:  0.93\n",
            "Recall:  0.8942307692307693\n",
            "F1:  0.911764705882353\n",
            "ROC:  0.9106570512820512\n"
          ]
        }
      ]
    },
    {
      "cell_type": "code",
      "source": [
        "# LOGISTIC REGRESSION WITH NO REGULARIZATION\n",
        "model = LogisticRegression(penalty='l2', max_iter=100)\n",
        "model.fit(X_train, y_train)\n",
        "preds = model.predict(X_test)\n",
        "\n",
        "print(\"Overall scores\")\n",
        "print('-------------------------------------------')\n",
        "print(\"Accuracy: \", accuracy_score(y_test, preds))\n",
        "print(\"Precision: \", precision_score(y_test, preds))\n",
        "print(\"Recall: \", recall_score(y_test, preds))\n",
        "print(\"F1: \", f1_score(y_test, preds))\n",
        "print(\"ROC: \", roc_auc_score(y_test, preds))"
      ],
      "metadata": {
        "colab": {
          "base_uri": "https://localhost:8080/"
        },
        "id": "uP-pXxv9qjEy",
        "outputId": "f8c9db17-66ce-436d-a7e7-87c4dd70e3ad"
      },
      "execution_count": null,
      "outputs": [
        {
          "output_type": "stream",
          "name": "stdout",
          "text": [
            "Overall scores\n",
            "-------------------------------------------\n",
            "Accuracy:  0.91\n",
            "Precision:  0.9215686274509803\n",
            "Recall:  0.9038461538461539\n",
            "F1:  0.9126213592233009\n",
            "ROC:  0.9102564102564101\n"
          ]
        }
      ]
    },
    {
      "cell_type": "markdown",
      "source": [
        "#### feature scaling"
      ],
      "metadata": {
        "id": "lnkHQqDaqmcK"
      }
    },
    {
      "cell_type": "code",
      "source": [
        "# LOG REGRESSION WITH FEATURE SCALING\n",
        "from sklearn.preprocessing import MinMaxScaler\n",
        "scaler = MinMaxScaler(feature_range = (0,1))\n",
        "scaler.fit(X_train)\n",
        "X_train_scaled = scaler.transform(X_train)\n",
        "X_test_scaled = scaler.transform(X_test)\n",
        "model = LogisticRegression(penalty='none', max_iter=100)\n",
        "model.fit(X_train_scaled, y_train)\n",
        "preds = model.predict(X_test_scaled)\n",
        "\n",
        "\n",
        "print(\"Overall scores\")\n",
        "print('-------------------------------------------')\n",
        "print(\"Accuracy: \", accuracy_score(y_test, preds))\n",
        "print(\"Precision: \", precision_score(y_test, preds))\n",
        "print(\"Recall: \", recall_score(y_test, preds))\n",
        "print(\"F1: \", f1_score(y_test, preds))\n",
        "print(\"ROC: \", roc_auc_score(y_test, preds))"
      ],
      "metadata": {
        "colab": {
          "base_uri": "https://localhost:8080/"
        },
        "id": "muIHroVZqmP-",
        "outputId": "5fc33e01-6e3e-4302-c034-c797adfe6819"
      },
      "execution_count": null,
      "outputs": [
        {
          "output_type": "stream",
          "name": "stdout",
          "text": [
            "Overall scores\n",
            "-------------------------------------------\n",
            "Accuracy:  0.935\n",
            "Precision:  0.941747572815534\n",
            "Recall:  0.9326923076923077\n",
            "F1:  0.9371980676328503\n",
            "ROC:  0.9350961538461539\n"
          ]
        }
      ]
    },
    {
      "cell_type": "code",
      "source": [
        "# LOG REGRESSION WITH FEATURE SCALING\n",
        "from sklearn.preprocessing import MinMaxScaler\n",
        "scaler = MinMaxScaler(feature_range = (0,1))\n",
        "scaler.fit(X_train)\n",
        "X_train_scaled = scaler.transform(X_train)\n",
        "X_test_scaled = scaler.transform(X_test)\n",
        "model = LogisticRegression(penalty='l2', max_iter=100)\n",
        "model.fit(X_train_scaled, y_train)\n",
        "preds = model.predict(X_test_scaled)\n",
        "\n",
        "\n",
        "print(\"Overall scores\")\n",
        "print('-------------------------------------------')\n",
        "print(\"Accuracy: \", accuracy_score(y_test, preds))\n",
        "print(\"Precision: \", precision_score(y_test, preds))\n",
        "print(\"Recall: \", recall_score(y_test, preds))\n",
        "print(\"F1: \", f1_score(y_test, preds))\n",
        "print(\"ROC: \", roc_auc_score(y_test, preds))"
      ],
      "metadata": {
        "colab": {
          "base_uri": "https://localhost:8080/"
        },
        "id": "UTvGN3pUquh3",
        "outputId": "b846bbc8-0603-4506-b7f0-30b7d5ee6b6e"
      },
      "execution_count": null,
      "outputs": [
        {
          "output_type": "stream",
          "name": "stdout",
          "text": [
            "Overall scores\n",
            "-------------------------------------------\n",
            "Accuracy:  0.915\n",
            "Precision:  0.9306930693069307\n",
            "Recall:  0.9038461538461539\n",
            "F1:  0.9170731707317074\n",
            "ROC:  0.9154647435897436\n"
          ]
        }
      ]
    },
    {
      "cell_type": "markdown",
      "metadata": {
        "id": "27znPxaMZYhI"
      },
      "source": [
        "## Decision Trees"
      ]
    },
    {
      "cell_type": "markdown",
      "source": [
        "### Large dataset"
      ],
      "metadata": {
        "id": "-FgeOs7Pq3za"
      }
    },
    {
      "cell_type": "markdown",
      "metadata": {
        "id": "LgO5SCNXZa1i"
      },
      "source": [
        "#### DECISION TREE WITH NO HYPERPARAMETER TUNING"
      ]
    },
    {
      "cell_type": "code",
      "metadata": {
        "id": "mWoNAmcVN9Yl",
        "colab": {
          "base_uri": "https://localhost:8080/"
        },
        "outputId": "0c72384d-d044-4b08-fd54-07e9dcc1b154"
      },
      "source": [
        "# VANILLA DT\n",
        "model = DecisionTreeClassifier()\n",
        "model.fit(X_train, y_train)\n",
        "preds = model.predict(X_test)\n",
        "\n",
        "print(\"Overall scores\")\n",
        "print('-------------------------------------------')\n",
        "print(\"Accuracy: \", accuracy_score(y_test, preds))\n",
        "print(\"Precision: \", precision_score(y_test, preds, average = 'weighted'))\n",
        "print(\"Recall: \", recall_score(y_test, preds, average = 'weighted'))\n",
        "print(\"F1: \", f1_score(y_test, preds, average = 'weighted'))"
      ],
      "execution_count": null,
      "outputs": [
        {
          "output_type": "stream",
          "name": "stdout",
          "text": [
            "Overall scores\n",
            "-------------------------------------------\n",
            "Accuracy:  0.774863387978142\n",
            "Precision:  0.7717349096397477\n",
            "Recall:  0.774863387978142\n",
            "F1:  0.7721365544594695\n"
          ]
        }
      ]
    },
    {
      "cell_type": "code",
      "metadata": {
        "id": "_wE8IPNOOdoX",
        "colab": {
          "base_uri": "https://localhost:8080/"
        },
        "outputId": "bb103af6-3505-42bc-da26-dff4752cb9c0"
      },
      "source": [
        "# DT with max depth = 7\n",
        "model = DecisionTreeClassifier(max_depth=7)\n",
        "model.fit(X_train, y_train)\n",
        "preds = model.predict(X_test)\n",
        "\n",
        "\n",
        "print(\"Overall scores\")\n",
        "print('-------------------------------------------')\n",
        "print(\"Accuracy: \", accuracy_score(y_test, preds))\n",
        "print(\"Precision: \", precision_score(y_test, preds, average = 'weighted'))\n",
        "print(\"Recall: \", recall_score(y_test, preds, average = 'weighted'))\n",
        "print(\"F1: \", f1_score(y_test, preds, average = 'weighted'))"
      ],
      "execution_count": null,
      "outputs": [
        {
          "output_type": "stream",
          "name": "stdout",
          "text": [
            "Overall scores\n",
            "-------------------------------------------\n",
            "Accuracy:  0.7879781420765027\n",
            "Precision:  0.7866024814867287\n",
            "Recall:  0.7879781420765027\n",
            "F1:  0.7818749571210339\n"
          ]
        }
      ]
    },
    {
      "cell_type": "markdown",
      "metadata": {
        "id": "zqIKyjVCZoet"
      },
      "source": [
        "#### DECISION TREE WITH ENTROPY"
      ]
    },
    {
      "cell_type": "code",
      "metadata": {
        "id": "gTrwTKasVDdh",
        "colab": {
          "base_uri": "https://localhost:8080/"
        },
        "outputId": "1dd337fd-b986-48ce-8138-aea908302b5d"
      },
      "source": [
        "# DT WITH ENTROPY\n",
        "model = DecisionTreeClassifier(criterion=\"entropy\")\n",
        "model.fit(X_train, y_train)\n",
        "preds = model.predict(X_test)\n",
        "print(\"Overall scores\")\n",
        "print('-------------------------------------------')\n",
        "print(\"Accuracy: \", accuracy_score(y_test, preds))\n",
        "print(\"Precision: \", precision_score(y_test, preds, average = 'weighted'))\n",
        "print(\"Recall: \", recall_score(y_test, preds, average = 'weighted'))\n",
        "print(\"F1: \", f1_score(y_test, preds, average = 'weighted'))"
      ],
      "execution_count": null,
      "outputs": [
        {
          "output_type": "stream",
          "name": "stdout",
          "text": [
            "Overall scores\n",
            "-------------------------------------------\n",
            "Accuracy:  0.7836065573770492\n",
            "Precision:  0.7840586320152605\n",
            "Recall:  0.7836065573770492\n",
            "F1:  0.7838168217656795\n"
          ]
        }
      ]
    },
    {
      "cell_type": "markdown",
      "source": [
        "### Small Dataset"
      ],
      "metadata": {
        "id": "hJADRWQOrAGv"
      }
    },
    {
      "cell_type": "code",
      "source": [
        "# VANILLA DT\n",
        "model = DecisionTreeClassifier()\n",
        "model.fit(X_train, y_train)\n",
        "preds = model.predict(X_test)\n",
        "\n",
        "print(\"Overall scores\")\n",
        "print('-------------------------------------------')\n",
        "print(\"Accuracy: \", accuracy_score(y_test, preds))\n",
        "print(\"Precision: \", precision_score(y_test, preds))\n",
        "print(\"Recall: \", recall_score(y_test, preds))\n",
        "print(\"F1: \", f1_score(y_test, preds))\n",
        "print(\"ROC: \", roc_auc_score(y_test, preds))"
      ],
      "metadata": {
        "colab": {
          "base_uri": "https://localhost:8080/"
        },
        "id": "io7VecQ2rCu2",
        "outputId": "73593d68-de55-4292-e047-e77c8a8595f9"
      },
      "execution_count": null,
      "outputs": [
        {
          "output_type": "stream",
          "name": "stdout",
          "text": [
            "Overall scores\n",
            "-------------------------------------------\n",
            "Accuracy:  0.81\n",
            "Precision:  0.7894736842105263\n",
            "Recall:  0.8653846153846154\n",
            "F1:  0.8256880733944955\n",
            "ROC:  0.8076923076923077\n"
          ]
        }
      ]
    },
    {
      "cell_type": "code",
      "source": [
        "# DT\n",
        "model = DecisionTreeClassifier(max_depth=7)\n",
        "model.fit(X_train, y_train)\n",
        "preds = model.predict(X_test)\n",
        "\n",
        "\n",
        "print(\"Overall scores\")\n",
        "print('-------------------------------------------')\n",
        "print(\"Accuracy: \", accuracy_score(y_test, preds))\n",
        "print(\"Precision: \", precision_score(y_test, preds))\n",
        "print(\"Recall: \", recall_score(y_test, preds))\n",
        "print(\"F1: \", f1_score(y_test, preds))\n",
        "print(\"ROC: \", roc_auc_score(y_test, preds))"
      ],
      "metadata": {
        "colab": {
          "base_uri": "https://localhost:8080/"
        },
        "id": "SF4C-9ofr7Nw",
        "outputId": "97de4a7a-5d16-4e10-e181-9f1047e8b730"
      },
      "execution_count": null,
      "outputs": [
        {
          "output_type": "stream",
          "name": "stdout",
          "text": [
            "Overall scores\n",
            "-------------------------------------------\n",
            "Accuracy:  0.78\n",
            "Precision:  0.7678571428571429\n",
            "Recall:  0.8269230769230769\n",
            "F1:  0.7962962962962962\n",
            "ROC:  0.7780448717948718\n"
          ]
        }
      ]
    },
    {
      "cell_type": "code",
      "source": [
        "# DT WITH ENTROPY\n",
        "model = DecisionTreeClassifier(criterion=\"entropy\")\n",
        "model.fit(X_train, y_train)\n",
        "preds = model.predict(X_test)\n",
        "\n",
        "print(\"Overall scores\")\n",
        "print('-------------------------------------------')\n",
        "print(\"Accuracy: \", accuracy_score(y_test, preds))\n",
        "print(\"Precision: \", precision_score(y_test, preds))\n",
        "print(\"Recall: \", recall_score(y_test, preds))\n",
        "print(\"F1: \", f1_score(y_test, preds))\n",
        "print(\"ROC: \", roc_auc_score(y_test, preds))"
      ],
      "metadata": {
        "colab": {
          "base_uri": "https://localhost:8080/"
        },
        "id": "SUfuMO-AscvS",
        "outputId": "fda30ba8-3beb-4e6b-8779-c3d5d51a3a06"
      },
      "execution_count": null,
      "outputs": [
        {
          "output_type": "stream",
          "name": "stdout",
          "text": [
            "Overall scores\n",
            "-------------------------------------------\n",
            "Accuracy:  0.78\n",
            "Precision:  0.7678571428571429\n",
            "Recall:  0.8269230769230769\n",
            "F1:  0.7962962962962962\n",
            "ROC:  0.7780448717948718\n"
          ]
        }
      ]
    },
    {
      "cell_type": "markdown",
      "metadata": {
        "id": "o4_dfF2LZsM_"
      },
      "source": [
        "## Ensemble Methods"
      ]
    },
    {
      "cell_type": "markdown",
      "source": [
        "### Large Dataset"
      ],
      "metadata": {
        "id": "CfbIwhXasiSy"
      }
    },
    {
      "cell_type": "code",
      "metadata": {
        "id": "iMYVCZ3cURxC",
        "colab": {
          "base_uri": "https://localhost:8080/"
        },
        "outputId": "dd857c55-a0c0-4186-9ee4-fe853c15ef79"
      },
      "source": [
        "# ENSEMBLE METHOD\n",
        "model = ExtraTreesClassifier()\n",
        "model.fit(X_train, y_train)\n",
        "preds = model.predict(X_test)\n",
        "\n",
        "print(\"Overall scores\")\n",
        "print('-------------------------------------------')\n",
        "print(\"Accuracy: \", accuracy_score(y_test, preds))\n",
        "print(\"Precision: \", precision_score(y_test, preds, average = 'weighted'))\n",
        "print(\"Recall: \", recall_score(y_test, preds, average = 'weighted'))\n",
        "print(\"F1: \", f1_score(y_test, preds, average = 'weighted'))"
      ],
      "execution_count": null,
      "outputs": [
        {
          "output_type": "stream",
          "name": "stdout",
          "text": [
            "Overall scores\n",
            "-------------------------------------------\n",
            "Accuracy:  0.8994535519125683\n",
            "Precision:  0.9013981045093222\n",
            "Recall:  0.8994535519125683\n",
            "F1:  0.8971396148958636\n"
          ]
        }
      ]
    },
    {
      "cell_type": "code",
      "metadata": {
        "id": "WwflU4HoUSrW",
        "colab": {
          "base_uri": "https://localhost:8080/"
        },
        "outputId": "90be65f2-621b-434c-c9ef-538f215f879e"
      },
      "source": [
        "# ENSEMBLE METHOD - RF\n",
        "model = RandomForestClassifier()\n",
        "model.fit(X_train, y_train)\n",
        "preds = model.predict(X_test)\n",
        "\n",
        "\n",
        "\n",
        "print(\"Overall scores\")\n",
        "print('-------------------------------------------')\n",
        "print(\"Accuracy: \", accuracy_score(y_test, preds))\n",
        "print(\"Precision: \", precision_score(y_test, preds, average = 'weighted'))\n",
        "print(\"Recall: \", recall_score(y_test, preds, average = 'weighted'))\n",
        "print(\"F1: \", f1_score(y_test, preds, average = 'weighted'))"
      ],
      "execution_count": null,
      "outputs": [
        {
          "output_type": "stream",
          "name": "stdout",
          "text": [
            "Overall scores\n",
            "-------------------------------------------\n",
            "Accuracy:  0.892896174863388\n",
            "Precision:  0.8956150745883478\n",
            "Recall:  0.892896174863388\n",
            "F1:  0.8903944831165496\n"
          ]
        }
      ]
    },
    {
      "cell_type": "code",
      "metadata": {
        "id": "LNV75ZgGoOXK",
        "colab": {
          "base_uri": "https://localhost:8080/"
        },
        "outputId": "08b77887-5165-4955-d136-7f44cfe4ac82"
      },
      "source": [
        "# ENSEMBLE METHOD - RF - HYPERPARAMETER TUNING\n",
        "model = RandomForestClassifier(n_estimators=50)\n",
        "model.fit(X_train, y_train)\n",
        "preds = model.predict(X_test)\n",
        " \n",
        "print(\"Overall scores\")\n",
        "print('-------------------------------------------')\n",
        "print(\"Accuracy: \", accuracy_score(y_test, preds))\n",
        "print(\"Precision: \", precision_score(y_test, preds, average = 'weighted'))\n",
        "print(\"Recall: \", recall_score(y_test, preds, average = 'weighted'))\n",
        "print(\"F1: \", f1_score(y_test, preds, average = 'weighted'))"
      ],
      "execution_count": null,
      "outputs": [
        {
          "output_type": "stream",
          "name": "stdout",
          "text": [
            "Overall scores\n",
            "-------------------------------------------\n",
            "Accuracy:  0.8950819672131147\n",
            "Precision:  0.897467939759889\n",
            "Recall:  0.8950819672131147\n",
            "F1:  0.892265464387739\n"
          ]
        }
      ]
    },
    {
      "cell_type": "code",
      "metadata": {
        "id": "uKInPFXjVqEZ",
        "colab": {
          "base_uri": "https://localhost:8080/"
        },
        "outputId": "a63a16b8-7b00-4988-bce1-f03ed7c7af47"
      },
      "source": [
        "# ENSEMBLE METHOD - BAGGING\n",
        "model = BaggingClassifier()\n",
        "model.fit(X_train, y_train)\n",
        "preds = model.predict(X_test)\n",
        "\n",
        "print(\"Overall scores\")\n",
        "print('-------------------------------------------')\n",
        "print(\"Accuracy: \", accuracy_score(y_test, preds))\n",
        "print(\"Precision: \", precision_score(y_test, preds, average = 'weighted'))\n",
        "print(\"Recall: \", recall_score(y_test, preds, average = 'weighted'))\n",
        "print(\"F1: \", f1_score(y_test, preds, average = 'weighted'))"
      ],
      "execution_count": null,
      "outputs": [
        {
          "output_type": "stream",
          "name": "stdout",
          "text": [
            "Overall scores\n",
            "-------------------------------------------\n",
            "Accuracy:  0.8633879781420765\n",
            "Precision:  0.8628161655023652\n",
            "Recall:  0.8633879781420765\n",
            "F1:  0.8616820968742083\n"
          ]
        }
      ]
    },
    {
      "cell_type": "markdown",
      "source": [
        "### Small Dataset"
      ],
      "metadata": {
        "id": "dtTl3Gkmsprt"
      }
    },
    {
      "cell_type": "code",
      "source": [
        "# ENSEMBLE METHOD\n",
        "model = ExtraTreesClassifier()\n",
        "model.fit(X_train, y_train)\n",
        "preds = model.predict(X_test)\n",
        "\n",
        "\n",
        "print(\"Overall scores\")\n",
        "print('-------------------------------------------')\n",
        "print(\"Accuracy: \", accuracy_score(y_test, preds))\n",
        "print(\"Precision: \", precision_score(y_test, preds))\n",
        "print(\"Recall: \", recall_score(y_test, preds))\n",
        "print(\"F1: \", f1_score(y_test, preds))\n",
        "print(\"ROC: \", roc_auc_score(y_test, preds))"
      ],
      "metadata": {
        "colab": {
          "base_uri": "https://localhost:8080/"
        },
        "id": "AylkMbO7ssT7",
        "outputId": "aeec775e-1fd2-41a5-af87-500e141c93a4"
      },
      "execution_count": null,
      "outputs": [
        {
          "output_type": "stream",
          "name": "stdout",
          "text": [
            "Overall scores\n",
            "-------------------------------------------\n",
            "Accuracy:  0.95\n",
            "Precision:  0.9433962264150944\n",
            "Recall:  0.9615384615384616\n",
            "F1:  0.9523809523809524\n",
            "ROC:  0.9495192307692308\n"
          ]
        }
      ]
    },
    {
      "cell_type": "code",
      "source": [
        "# ENSEMBLE METHOD - RF\n",
        "model = RandomForestClassifier()\n",
        "model.fit(X_train, y_train)\n",
        "preds = model.predict(X_test)\n",
        "\n",
        "\n",
        "print(\"Overall scores\")\n",
        "print('-------------------------------------------')\n",
        "print(\"Accuracy: \", accuracy_score(y_test, preds))\n",
        "print(\"Precision: \", precision_score(y_test, preds))\n",
        "print(\"Recall: \", recall_score(y_test, preds))\n",
        "print(\"F1: \", f1_score(y_test, preds))\n",
        "print(\"ROC: \", roc_auc_score(y_test, preds))"
      ],
      "metadata": {
        "colab": {
          "base_uri": "https://localhost:8080/"
        },
        "id": "K6sLHJ9QsyPZ",
        "outputId": "fe8db442-4529-4670-cb1c-d848d850b2d1"
      },
      "execution_count": null,
      "outputs": [
        {
          "output_type": "stream",
          "name": "stdout",
          "text": [
            "Overall scores\n",
            "-------------------------------------------\n",
            "Accuracy:  0.93\n",
            "Precision:  0.9166666666666666\n",
            "Recall:  0.9519230769230769\n",
            "F1:  0.9339622641509433\n",
            "ROC:  0.9290865384615384\n"
          ]
        }
      ]
    },
    {
      "cell_type": "code",
      "source": [
        "# ENSEMBLE METHOD - RF - HYPERPARAMETER TUNING\n",
        "model = RandomForestClassifier(n_estimators=1000)\n",
        "model.fit(X_train, y_train)\n",
        "preds = model.predict(X_test)\n",
        "\n",
        "print(\"Overall scores\")\n",
        "print('-------------------------------------------')\n",
        "print(\"Accuracy: \", accuracy_score(y_test, preds))\n",
        "print(\"Precision: \", precision_score(y_test, preds))\n",
        "print(\"Recall: \", recall_score(y_test, preds))\n",
        "print(\"F1: \", f1_score(y_test, preds))\n",
        "print(\"ROC: \", roc_auc_score(y_test, preds))"
      ],
      "metadata": {
        "colab": {
          "base_uri": "https://localhost:8080/"
        },
        "id": "xFDyon_4s0oP",
        "outputId": "648c3967-9780-4fbe-c04d-78fcd2451ede"
      },
      "execution_count": null,
      "outputs": [
        {
          "output_type": "stream",
          "name": "stdout",
          "text": [
            "Overall scores\n",
            "-------------------------------------------\n",
            "Accuracy:  0.91\n",
            "Precision:  0.8909090909090909\n",
            "Recall:  0.9423076923076923\n",
            "F1:  0.9158878504672897\n",
            "ROC:  0.9086538461538461\n"
          ]
        }
      ]
    },
    {
      "cell_type": "code",
      "source": [
        "# ENSEMBLE METHOD - BAGGING\n",
        "model = BaggingClassifier()\n",
        "model.fit(X_train, y_train)\n",
        "preds = model.predict(X_test)\n",
        "\n",
        "print(\"Overall scores\")\n",
        "print('-------------------------------------------')\n",
        "print(\"Accuracy: \", accuracy_score(y_test, preds))\n",
        "print(\"Precision: \", precision_score(y_test, preds))\n",
        "print(\"Recall: \", recall_score(y_test, preds))\n",
        "print(\"F1: \", f1_score(y_test, preds))\n",
        "print(\"ROC: \", roc_auc_score(y_test, preds))"
      ],
      "metadata": {
        "colab": {
          "base_uri": "https://localhost:8080/"
        },
        "id": "LrEKrtmHs2j7",
        "outputId": "54f75435-8b15-4c7d-a831-839e28d1d8e4"
      },
      "execution_count": null,
      "outputs": [
        {
          "output_type": "stream",
          "name": "stdout",
          "text": [
            "Overall scores\n",
            "-------------------------------------------\n",
            "Accuracy:  0.88\n",
            "Precision:  0.9081632653061225\n",
            "Recall:  0.8557692307692307\n",
            "F1:  0.8811881188118811\n",
            "ROC:  0.8810096153846154\n"
          ]
        }
      ]
    },
    {
      "cell_type": "markdown",
      "source": [
        "# PART 2 - Normal and Covid"
      ],
      "metadata": {
        "id": "rfIZcudyUkWx"
      }
    },
    {
      "cell_type": "markdown",
      "source": [
        "##Reading the data"
      ],
      "metadata": {
        "id": "CRP0T2Krtb0F"
      }
    },
    {
      "cell_type": "code",
      "source": [
        "loaded_images, labels = read_data('covid', IMG_SIZE=299)\n",
        "X = [convert_and_flatten(image) for image in loaded_images]\n",
        "y = np.array(labels)\n",
        "X_train, X_test, y_train, y_test = train_test_split(X, y, test_size=0.20, random_state=42)"
      ],
      "metadata": {
        "id": "tBzm2bMIUl1y"
      },
      "execution_count": null,
      "outputs": []
    },
    {
      "cell_type": "code",
      "source": [
        "print(len(X_train))\n",
        "print(len(X_test))\n",
        "print(len(y_train))\n",
        "print(len(y_test))"
      ],
      "metadata": {
        "colab": {
          "base_uri": "https://localhost:8080/"
        },
        "id": "kzJ7ubowcoBs",
        "outputId": "e63aa81a-49e4-42e7-9391-28bcca210ea9"
      },
      "execution_count": null,
      "outputs": [
        {
          "output_type": "stream",
          "name": "stdout",
          "text": [
            "800\n",
            "200\n",
            "800\n",
            "200\n"
          ]
        }
      ]
    },
    {
      "cell_type": "code",
      "source": [],
      "metadata": {
        "id": "e162G7JMzck9"
      },
      "execution_count": null,
      "outputs": []
    },
    {
      "cell_type": "markdown",
      "source": [
        "## Logistic Regression"
      ],
      "metadata": {
        "id": "VQ36b0DNtBN9"
      }
    },
    {
      "cell_type": "code",
      "source": [
        "# LOGISTIC REGRESSION WITH NO REGULARIZATION\n",
        "model = LogisticRegression(penalty='none', max_iter=100)\n",
        "model.fit(X_train, y_train)\n",
        "preds = model.predict(X_test)\n",
        "\n",
        "print(\"Overall scores\")\n",
        "print('-------------------------------------------')\n",
        "print(\"Accuracy: \", accuracy_score(y_test, preds))\n",
        "print(\"Precision: \", precision_score(y_test, preds))\n",
        "print(\"Recall: \", recall_score(y_test, preds))\n",
        "print(\"F1: \", f1_score(y_test, preds))\n",
        "print(\"ROC: \", roc_auc_score(y_test, preds))"
      ],
      "metadata": {
        "colab": {
          "base_uri": "https://localhost:8080/"
        },
        "id": "-Yx53ZQStDVL",
        "outputId": "11e65b1f-49e3-4b7f-87b5-cf925b3fc4ab"
      },
      "execution_count": null,
      "outputs": [
        {
          "output_type": "stream",
          "name": "stdout",
          "text": [
            "Overall scores\n",
            "-------------------------------------------\n",
            "Accuracy:  0.925\n",
            "Precision:  0.9238095238095239\n",
            "Recall:  0.9326923076923077\n",
            "F1:  0.9282296650717704\n",
            "ROC:  0.9246794871794872\n"
          ]
        }
      ]
    },
    {
      "cell_type": "code",
      "source": [
        "# LOGISTIC REGRESSION WITH NO REGULARIZATION - INCREASE ITERATIONS\n",
        "model = LogisticRegression(penalty='l2', max_iter=1000) ## did converge, but accuracy is lower\n",
        "model.fit(X_train, y_train)\n",
        "preds = model.predict(X_test)\n",
        "\n",
        "print(\"Overall scores\")\n",
        "print('-------------------------------------------')\n",
        "print(\"Accuracy: \", accuracy_score(y_test, preds))\n",
        "print(\"Precision: \", precision_score(y_test, preds))\n",
        "print(\"Recall: \", recall_score(y_test, preds))\n",
        "print(\"F1: \", f1_score(y_test, preds))\n",
        "print(\"ROC: \", roc_auc_score(y_test, preds))"
      ],
      "metadata": {
        "colab": {
          "base_uri": "https://localhost:8080/"
        },
        "id": "vnFYG3n7tI0L",
        "outputId": "5828e498-a8cf-44f4-e012-2e602fae5f8a"
      },
      "execution_count": null,
      "outputs": [
        {
          "output_type": "stream",
          "name": "stdout",
          "text": [
            "Overall scores\n",
            "-------------------------------------------\n",
            "Accuracy:  0.925\n",
            "Precision:  0.908256880733945\n",
            "Recall:  0.9519230769230769\n",
            "F1:  0.9295774647887324\n",
            "ROC:  0.9238782051282051\n"
          ]
        }
      ]
    },
    {
      "cell_type": "code",
      "source": [
        "# LOG REGRESSION WITH FEATURE SCALING\n",
        "from sklearn.preprocessing import MinMaxScaler\n",
        "scaler = MinMaxScaler(feature_range = (0,1))\n",
        "scaler.fit(X_train)\n",
        "X_train_scaled = scaler.transform(X_train)\n",
        "X_test_scaled = scaler.transform(X_test)\n",
        "model = LogisticRegression(penalty='none', max_iter=100)\n",
        "model.fit(X_train_scaled, y_train)\n",
        "preds = model.predict(X_test_scaled)\n",
        "\n",
        "\n",
        "print(\"Overall scores\")\n",
        "print('-------------------------------------------')\n",
        "print(\"Accuracy: \", accuracy_score(y_test, preds))\n",
        "print(\"Precision: \", precision_score(y_test, preds))\n",
        "print(\"Recall: \", recall_score(y_test, preds))\n",
        "print(\"F1: \", f1_score(y_test, preds))\n",
        "print(\"ROC: \", roc_auc_score(y_test, preds))"
      ],
      "metadata": {
        "colab": {
          "base_uri": "https://localhost:8080/"
        },
        "id": "6KYctwx9tOCD",
        "outputId": "2d81646f-d2f3-4e14-9370-024a0a34ab49"
      },
      "execution_count": null,
      "outputs": [
        {
          "output_type": "stream",
          "name": "stdout",
          "text": [
            "Overall scores\n",
            "-------------------------------------------\n",
            "Accuracy:  0.93\n",
            "Precision:  0.9326923076923077\n",
            "Recall:  0.9326923076923077\n",
            "F1:  0.9326923076923077\n",
            "ROC:  0.9298878205128206\n"
          ]
        }
      ]
    },
    {
      "cell_type": "markdown",
      "source": [
        "## Decision Trees"
      ],
      "metadata": {
        "id": "j3BhHQTjtRuS"
      }
    },
    {
      "cell_type": "code",
      "source": [
        "# VANILLA DT\n",
        "model = DecisionTreeClassifier()\n",
        "model.fit(X_train, y_train)\n",
        "preds = model.predict(X_test)\n",
        "\n",
        "print(\"Overall scores\")\n",
        "print('-------------------------------------------')\n",
        "print(\"Accuracy: \", accuracy_score(y_test, preds))\n",
        "print(\"Precision: \", precision_score(y_test, preds))\n",
        "print(\"Recall: \", recall_score(y_test, preds))\n",
        "print(\"F1: \", f1_score(y_test, preds))\n",
        "print(\"ROC: \", roc_auc_score(y_test, preds))"
      ],
      "metadata": {
        "colab": {
          "base_uri": "https://localhost:8080/"
        },
        "id": "NFgE7H_-tTXM",
        "outputId": "d0b61802-b938-4d50-c0f5-4859c1913d99"
      },
      "execution_count": null,
      "outputs": [
        {
          "output_type": "stream",
          "name": "stdout",
          "text": [
            "Overall scores\n",
            "-------------------------------------------\n",
            "Accuracy:  0.89\n",
            "Precision:  0.8942307692307693\n",
            "Recall:  0.8942307692307693\n",
            "F1:  0.8942307692307693\n",
            "ROC:  0.8898237179487178\n"
          ]
        }
      ]
    },
    {
      "cell_type": "code",
      "source": [
        "# DT\n",
        "model = DecisionTreeClassifier(max_depth=7)\n",
        "model.fit(X_train, y_train)\n",
        "preds = model.predict(X_test)\n",
        "\n",
        "\n",
        "print(\"Overall scores\")\n",
        "print('-------------------------------------------')\n",
        "print(\"Accuracy: \", accuracy_score(y_test, preds))\n",
        "print(\"Precision: \", precision_score(y_test, preds))\n",
        "print(\"Recall: \", recall_score(y_test, preds))\n",
        "print(\"F1: \", f1_score(y_test, preds))\n",
        "print(\"ROC: \", roc_auc_score(y_test, preds))"
      ],
      "metadata": {
        "colab": {
          "base_uri": "https://localhost:8080/"
        },
        "id": "SPJWReU3tTTP",
        "outputId": "6005becc-aa94-4b2d-f803-4413d5eb9bd6"
      },
      "execution_count": null,
      "outputs": [
        {
          "output_type": "stream",
          "name": "stdout",
          "text": [
            "Overall scores\n",
            "-------------------------------------------\n",
            "Accuracy:  0.895\n",
            "Precision:  0.8878504672897196\n",
            "Recall:  0.9134615384615384\n",
            "F1:  0.9004739336492891\n",
            "ROC:  0.8942307692307692\n"
          ]
        }
      ]
    },
    {
      "cell_type": "code",
      "source": [
        "# DT WITH ENTROPY\n",
        "model = DecisionTreeClassifier(criterion=\"entropy\")\n",
        "model.fit(X_train, y_train)\n",
        "preds = model.predict(X_test)\n",
        "\n",
        "print(\"Overall scores\")\n",
        "print('-------------------------------------------')\n",
        "print(\"Accuracy: \", accuracy_score(y_test, preds))\n",
        "print(\"Precision: \", precision_score(y_test, preds))\n",
        "print(\"Recall: \", recall_score(y_test, preds))\n",
        "print(\"F1: \", f1_score(y_test, preds))\n",
        "print(\"ROC: \", roc_auc_score(y_test, preds))"
      ],
      "metadata": {
        "colab": {
          "base_uri": "https://localhost:8080/"
        },
        "id": "eXN-Q74etTLK",
        "outputId": "9bb45ff1-0574-4fe0-c4ed-596243b50f7a"
      },
      "execution_count": null,
      "outputs": [
        {
          "output_type": "stream",
          "name": "stdout",
          "text": [
            "Overall scores\n",
            "-------------------------------------------\n",
            "Accuracy:  0.87\n",
            "Precision:  0.89\n",
            "Recall:  0.8557692307692307\n",
            "F1:  0.8725490196078431\n",
            "ROC:  0.8705929487179487\n"
          ]
        }
      ]
    },
    {
      "cell_type": "markdown",
      "source": [
        "## Ensemble methods"
      ],
      "metadata": {
        "id": "rL5gjiB_tfPW"
      }
    },
    {
      "cell_type": "code",
      "source": [
        "# ENSEMBLE METHOD\n",
        "model = ExtraTreesClassifier()\n",
        "model.fit(X_train, y_train)\n",
        "preds = model.predict(X_test)\n",
        "\n",
        "\n",
        "print(\"Overall scores\")\n",
        "print('-------------------------------------------')\n",
        "print(\"Accuracy: \", accuracy_score(y_test, preds))\n",
        "print(\"Precision: \", precision_score(y_test, preds))\n",
        "print(\"Recall: \", recall_score(y_test, preds))\n",
        "print(\"F1: \", f1_score(y_test, preds))\n",
        "print(\"ROC: \", roc_auc_score(y_test, preds))"
      ],
      "metadata": {
        "colab": {
          "base_uri": "https://localhost:8080/"
        },
        "id": "onFcWRIptkMw",
        "outputId": "4194f890-2787-402e-c514-2a07e26794be"
      },
      "execution_count": null,
      "outputs": [
        {
          "output_type": "stream",
          "name": "stdout",
          "text": [
            "Overall scores\n",
            "-------------------------------------------\n",
            "Accuracy:  0.955\n",
            "Precision:  0.9203539823008849\n",
            "Recall:  1.0\n",
            "F1:  0.9585253456221198\n",
            "ROC:  0.953125\n"
          ]
        }
      ]
    },
    {
      "cell_type": "code",
      "source": [
        "# ENSEMBLE METHOD - RF\n",
        "model = RandomForestClassifier(n_estimators=50)\n",
        "model.fit(X_train, y_train)\n",
        "preds = model.predict(X_test)\n",
        "\n",
        "\n",
        "print(\"Overall scores\")\n",
        "print('-------------------------------------------')\n",
        "print(\"Accuracy: \", accuracy_score(y_test, preds))\n",
        "print(\"Precision: \", precision_score(y_test, preds))\n",
        "print(\"Recall: \", recall_score(y_test, preds))\n",
        "print(\"F1: \", f1_score(y_test, preds))\n",
        "print(\"ROC: \", roc_auc_score(y_test, preds))"
      ],
      "metadata": {
        "colab": {
          "base_uri": "https://localhost:8080/"
        },
        "id": "YqcOOAXKtkIU",
        "outputId": "2929c5dd-9f00-413a-bea0-42905d11961d"
      },
      "execution_count": null,
      "outputs": [
        {
          "output_type": "stream",
          "name": "stdout",
          "text": [
            "Overall scores\n",
            "-------------------------------------------\n",
            "Accuracy:  0.94\n",
            "Precision:  0.9107142857142857\n",
            "Recall:  0.9807692307692307\n",
            "F1:  0.9444444444444444\n",
            "ROC:  0.938301282051282\n"
          ]
        }
      ]
    },
    {
      "cell_type": "code",
      "source": [
        "# ENSEMBLE METHOD - BAGGING\n",
        "model = BaggingClassifier()\n",
        "model.fit(X_train, y_train)\n",
        "preds = model.predict(X_test)\n",
        "\n",
        "print(\"Overall scores\")\n",
        "print('-------------------------------------------')\n",
        "print(\"Accuracy: \", accuracy_score(y_test, preds))\n",
        "print(\"Precision: \", precision_score(y_test, preds))\n",
        "print(\"Recall: \", recall_score(y_test, preds))\n",
        "print(\"F1: \", f1_score(y_test, preds))\n",
        "print(\"ROC: \", roc_auc_score(y_test, preds))"
      ],
      "metadata": {
        "colab": {
          "base_uri": "https://localhost:8080/"
        },
        "id": "00ekCfQNtkE8",
        "outputId": "0d729cbc-fd41-4ebf-adcf-973a6a9b59cc"
      },
      "execution_count": null,
      "outputs": [
        {
          "output_type": "stream",
          "name": "stdout",
          "text": [
            "Overall scores\n",
            "-------------------------------------------\n",
            "Accuracy:  0.935\n",
            "Precision:  0.9099099099099099\n",
            "Recall:  0.9711538461538461\n",
            "F1:  0.9395348837209302\n",
            "ROC:  0.9334935897435899\n"
          ]
        }
      ]
    },
    {
      "cell_type": "markdown",
      "source": [
        "# Unseen data - for the report"
      ],
      "metadata": {
        "id": "W9dz_xlbZf3X"
      }
    },
    {
      "cell_type": "markdown",
      "source": [
        "## Reading the data"
      ],
      "metadata": {
        "id": "KZwfykZWZh7d"
      }
    },
    {
      "cell_type": "code",
      "source": [],
      "metadata": {
        "id": "woOka1rSZo3q"
      },
      "execution_count": null,
      "outputs": []
    },
    {
      "cell_type": "markdown",
      "source": [
        "## Prediction using different models"
      ],
      "metadata": {
        "id": "6BS5_5fgZkjn"
      }
    },
    {
      "cell_type": "code",
      "source": [],
      "metadata": {
        "id": "8bLMM2jFZhT3"
      },
      "execution_count": null,
      "outputs": []
    },
    {
      "cell_type": "markdown",
      "source": [],
      "metadata": {
        "id": "LxYNbEbv12KO"
      }
    },
    {
      "cell_type": "markdown",
      "source": [
        "# Testing best models on remaining data"
      ],
      "metadata": {
        "id": "N5u2pO_c14TL"
      }
    },
    {
      "cell_type": "code",
      "source": [
        "normal = []\n",
        "covid = []\n",
        "pneumonia = []\n",
        "labels = []\n",
        "IMG_SIZE = 299\n",
        "for filename in os.listdir(NORMAL_DIR):\n",
        "\t# load image\n",
        "  img_data = Image.open(NORMAL_DIR + filename)\n",
        "  img_data = img_data.resize((IMG_SIZE, IMG_SIZE))\n",
        "  img_data = img_data.convert(\"RGB\")\n",
        "\t# store loaded image\n",
        "  # loaded_images.append(img_data)\n",
        "  normal.append(img_data)\n",
        "  # labels.append(0)\n",
        "\n",
        "for filename in os.listdir(COVID_DIR):\n",
        "  # load image\n",
        "  img_data = Image.open(COVID_DIR + filename)\n",
        "  img_data = img_data.resize((IMG_SIZE, IMG_SIZE))\n",
        "  img_data = img_data.convert(\"RGB\")\n",
        "\t# store loaded image\n",
        "  # loaded_images.append(img_data)\n",
        "  covid.append(img_data)\n",
        "  # labels.append(1)\n",
        "\n",
        "for filename in os.listdir(PNEUMONIA_DIR):\n",
        "  # load image\n",
        "  img_data = Image.open(PNEUMONIA_DIR + filename)\n",
        "  img_data = img_data.resize((IMG_SIZE, IMG_SIZE))\n",
        "  img_data = img_data.convert(\"RGB\")\n",
        "\t# store loaded image\n",
        "  # loaded_images.append(img_data)\n",
        "  pneumonia.append(img_data)\n",
        "  # labels.append(2)\n",
        "\n",
        "normal = normal[501:]\n",
        "covid = covid[501:]\n",
        "pneumonia = pneumonia[501:]\n",
        "\n",
        "# covid first, then pneumonia\n",
        "covid_yes = True\n",
        "for i in range(len(normal)):\n",
        "  labels.append(0)\n",
        "if covid_yes:\n",
        "  for i in range(len(covid)):\n",
        "    labels.append(1)\n",
        "  data = normal + covid\n",
        "else:\n",
        "  for i in range(len(pneumonia)):\n",
        "    labels.append(1)\n",
        "  data = normal + pneumonia\n",
        "\n",
        "print(len(data))\n",
        "print(len(labels))"
      ],
      "metadata": {
        "colab": {
          "base_uri": "https://localhost:8080/"
        },
        "id": "KbsBahyZ15te",
        "outputId": "35696e3f-d1dd-45fb-ed2e-2252ae4d1ce9"
      },
      "execution_count": null,
      "outputs": [
        {
          "output_type": "stream",
          "name": "stdout",
          "text": [
            "2228\n",
            "2228\n"
          ]
        }
      ]
    },
    {
      "cell_type": "code",
      "source": [],
      "metadata": {
        "id": "VFuPwD1s4Exn"
      },
      "execution_count": null,
      "outputs": []
    },
    {
      "cell_type": "code",
      "source": [
        "# logistic regression best\n",
        "from sklearn.preprocessing import MinMaxScaler\n",
        "scaler = MinMaxScaler(feature_range = (0,1))\n",
        "scaler.fit(X_train)\n",
        "X_train_scaled = scaler.transform(X_train)\n",
        "X_test_scaled = scaler.transform(X_test)\n",
        "model = LogisticRegression(penalty='none', max_iter=100)\n",
        "model.fit(X_train_scaled, y_train)\n",
        "preds = model.predict(X_test_scaled)\n",
        "\n",
        "\n",
        "print(\"Overall scores\")\n",
        "print('-------------------------------------------')\n",
        "print(\"Accuracy: \", accuracy_score(y_test, preds))\n",
        "print(\"Precision: \", precision_score(y_test, preds))\n",
        "print(\"Recall: \", recall_score(y_test, preds))\n",
        "print(\"F1: \", f1_score(y_test, preds))\n",
        "print(\"ROC: \", roc_auc_score(y_test, preds))"
      ],
      "metadata": {
        "id": "D3mGEyU83N8J"
      },
      "execution_count": null,
      "outputs": []
    }
  ]
}