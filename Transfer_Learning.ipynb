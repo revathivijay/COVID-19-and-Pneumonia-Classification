{
  "cells": [
    {
      "cell_type": "code",
      "execution_count": null,
      "metadata": {
        "colab": {
          "base_uri": "https://localhost:8080/"
        },
        "id": "dQGpy-EhphV1",
        "outputId": "729ba998-df58-45ea-8683-cc94f174b8c7"
      },
      "outputs": [
        {
          "output_type": "stream",
          "name": "stdout",
          "text": [
            "Mounted at /content/gdrive\n"
          ]
        }
      ],
      "source": [
        "from google.colab import drive\n",
        "drive.mount('/content/gdrive')\n",
        "\n",
        "from __future__ import print_function, division\n",
        "import PIL\n",
        "import numpy as np\n",
        "import tensorflow as tf\n",
        "tf.config.run_functions_eagerly(True)\n",
        "# load and show an image with Pillow\n",
        "from PIL import Image\n",
        "from os import listdir\n",
        "\n",
        "\n",
        "import torch\n",
        "import torch.nn as nn\n",
        "import torch.optim as optim\n",
        "from torch.optim import lr_scheduler\n",
        "import numpy as np\n",
        "import torchvision\n",
        "from torchvision import datasets, models, transforms\n",
        "import matplotlib.pyplot as plt\n",
        "import time\n",
        "import os\n",
        "import copy\n",
        "# load all images in a directory\n",
        "# load all images in a directory\n",
        "\n",
        "BASE_DIR = '/content/gdrive/Shareddrives/520 - Machine Learning Project/Dataset/'\n",
        "SMALL_NORMAL_DIR = os.path.join(BASE_DIR + 'Normal2/')\n",
        "SMALL_PNEUMONIA_DIR = os.path.join(BASE_DIR + 'Viral_Pneumonia2/')\n",
        "SMALL_COVID_DIR = os.path.join(BASE_DIR + 'COVID2/')\n",
        "dir_normal = os.path.join(BASE_DIR + 'Normal2/')\n",
        "dir_covid = os.path.join(BASE_DIR + 'Viral_Pneumonia2/')\n",
        "dir_pneumonia = os.path.join(BASE_DIR + 'COVID2/')\n",
        "loaded_images = []\n",
        "labels = []\n",
        "\n",
        "filelist = dir_normal, dir_covid, dir_pneumonia\n",
        "#loaded_images = np.array([np.array((Image.open(fname)).convert(\"RGB\") for fname in filelist])\n",
        "\n",
        "for filename in listdir(dir_normal):\n",
        "\t# load image\n",
        "\timg_data = Image.open(dir_normal + filename)\n",
        "\timg_data = img_data.convert(\"RGB\")\n",
        "\t# store loaded image\n",
        "\tloaded_images.append(img_data)\n",
        "\tlabels.append(0)\n",
        "for filename in listdir(dir_covid):\n",
        "  # load image\n",
        "\timg_data = Image.open(dir_covid + filename)\n",
        "\timg_data = img_data.convert(\"RGB\")\n",
        "\t# store loaded image\n",
        "\tloaded_images.append(img_data)\n",
        "\tlabels.append(1)\n",
        "for filename in listdir(dir_pneumonia):\n",
        "  # load image\n",
        "\timg_data = Image.open(dir_pneumonia + filename)\n",
        "\timg_data = img_data.convert(\"RGB\")\n",
        "\t# store loaded image\n",
        "\tloaded_images.append(img_data)\n",
        "\tlabels.append(2)"
      ]
    },
    {
      "cell_type": "code",
      "execution_count": null,
      "metadata": {
        "id": "gsPiZO8XphV3"
      },
      "outputs": [],
      "source": [
        "images = loaded_images\n",
        "prepared_images = []\n",
        "preprocess = transforms.Compose([\n",
        "    transforms.Resize(299),\n",
        "    transforms.CenterCrop(299),\n",
        "    transforms.ToTensor(),\n",
        "    transforms.Normalize(mean=[0.485, 0.456, 0.406], std=[0.229, 0.224, 0.225]),\n",
        "])\n",
        "\n",
        "input_tensors = []\n",
        "for i in range(len(loaded_images)):\n",
        "  input_tensor = preprocess(loaded_images[i])\n",
        "  input_tensors.append(input_tensor)\n",
        "\n",
        "\n",
        "\n",
        "prep_images = torch.stack((input_tensors))"
      ]
    },
    {
      "cell_type": "code",
      "execution_count": null,
      "metadata": {
        "id": "aS4HLYOgphV4"
      },
      "outputs": [],
      "source": [
        "from tensorflow.keras.applications.inception_v3 import InceptionV3\n",
        "from tensorflow.keras.optimizers import Adam\n",
        "pre_model = InceptionV3(input_shape = (299,299,3), include_top = False, weights = 'imagenet')\n",
        "for layer in pre_model.layers:\n",
        "  layer.trainable = False\n",
        "\n",
        "x = tf.keras.layers.Flatten()(pre_model.output)\n",
        "x = tf.keras.layers.Dense(1024, activation = 'relu')(x)\n",
        "x = tf.keras.layers.Dropout(0.1)(x)\n",
        "x = tf.keras.layers.Dense(1,activation='sigmoid')(x)\n",
        "\n",
        "model = tf.keras.Model(pre_model.input,x)\n",
        "model.compile(optimizer=Adam(lr=.0001),\n",
        "              loss = 'binary_crossentropy',\n",
        "              metrics = ['acc'])"
      ]
    },
    {
      "cell_type": "code",
      "execution_count": null,
      "metadata": {
        "id": "ZPnrEhm5phV5"
      },
      "outputs": [],
      "source": [
        "y_covid = [i for i in labels if i == 0 or i == 1]\n",
        "x_covid = prep_images[0:len(y_covid)]\n",
        "from sklearn.model_selection import train_test_split\n",
        "X_train, X_test, y_train, y_test = train_test_split(x_covid, y_covid, test_size=0.33, random_state=42)"
      ]
    },
    {
      "cell_type": "code",
      "execution_count": null,
      "metadata": {
        "id": "jcfPbl83phV5",
        "outputId": "aad4b171-c2b3-4e50-ed87-8dcfed7c599e"
      },
      "outputs": [
        {
          "data": {
            "text/plain": [
              "torch.Size([536, 3, 299, 299])"
            ]
          },
          "execution_count": 6,
          "metadata": {},
          "output_type": "execute_result"
        }
      ],
      "source": [
        "X_train.shape"
      ]
    },
    {
      "cell_type": "code",
      "execution_count": null,
      "metadata": {
        "id": "FKDKsH21phV7",
        "outputId": "09bf7930-2216-4177-df85-bb9207d5e29b"
      },
      "outputs": [
        {
          "name": "stderr",
          "output_type": "stream",
          "text": [
            "/opt/anaconda3/envs/newpy/lib/python3.6/site-packages/tensorflow/python/data/ops/dataset_ops.py:3504: UserWarning: Even though the tf.config.experimental_run_functions_eagerly option is set, this option does not apply to tf.data functions. tf.data functions are still traced and executed as graphs.\n",
            "  \"Even though the tf.config.experimental_run_functions_eagerly \"\n"
          ]
        },
        {
          "name": "stdout",
          "output_type": "stream",
          "text": [
            "Epoch 1/3\n",
            "30/30 [==============================] - 230s 8s/step - loss: 3.6716 - acc: 0.7580\n",
            "Epoch 2/3\n",
            "30/30 [==============================] - 226s 8s/step - loss: 0.3048 - acc: 0.9219\n",
            "Epoch 3/3\n",
            "30/30 [==============================] - 224s 7s/step - loss: 0.1697 - acc: 0.9485\n"
          ]
        }
      ],
      "source": [
        "history = model.fit(np.reshape(X_train.numpy(),(536,299,299,3)),np.array(y_train),steps_per_epoch=30,epochs=3)"
      ]
    },
    {
      "cell_type": "code",
      "execution_count": null,
      "metadata": {
        "id": "o5nQHajOphV7"
      },
      "outputs": [],
      "source": [
        "#X_test.shape\n",
        "y_prob = model.predict(np.reshape(X_test.numpy(),(264,299,299,3)))"
      ]
    },
    {
      "cell_type": "code",
      "execution_count": null,
      "metadata": {
        "id": "4Al1TxU9phV8",
        "outputId": "824d8c6d-5922-4a13-8ef1-05af0547b7f6"
      },
      "outputs": [
        {
          "name": "stdout",
          "output_type": "stream",
          "text": [
            "ROC AUC: 0.985149\n"
          ]
        }
      ],
      "source": [
        "import sklearn.metrics as metrics\n",
        "from sklearn.metrics import f1_score\n",
        "\n",
        "auc = metrics.roc_auc_score(y_test, y_prob)\n",
        "print('ROC AUC: %f' % auc)"
      ]
    }
  ],
  "metadata": {
    "kernelspec": {
      "display_name": "Python 3",
      "language": "python",
      "name": "python3"
    },
    "language_info": {
      "codemirror_mode": {
        "name": "ipython",
        "version": 3
      },
      "file_extension": ".py",
      "mimetype": "text/x-python",
      "name": "python",
      "nbconvert_exporter": "python",
      "pygments_lexer": "ipython3",
      "version": "3.6.12"
    },
    "colab": {
      "provenance": []
    }
  },
  "nbformat": 4,
  "nbformat_minor": 0
}